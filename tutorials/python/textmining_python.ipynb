{
 "cells": [
  {
   "cell_type": "markdown",
   "metadata": {
    "toc": "true"
   },
   "source": [
    "# Table of Contents\n",
    " <p><div class=\"lev1 toc-item\"><a href=\"#Introduction-to-Natural-Language-Processing-with-Python\" data-toc-modified-id=\"Introduction-to-Natural-Language-Processing-with-Python-1\"><span class=\"toc-item-num\">1&nbsp;&nbsp;</span>Introduction to Natural Language Processing with Python</a></div><div class=\"lev1 toc-item\"><a href=\"#Intro-to-Python-Basics\" data-toc-modified-id=\"Intro-to-Python-Basics-2\"><span class=\"toc-item-num\">2&nbsp;&nbsp;</span>Intro to Python Basics</a></div><div class=\"lev2 toc-item\"><a href=\"#Operating-this-notebook\" data-toc-modified-id=\"Operating-this-notebook-2.1\"><span class=\"toc-item-num\">2.1&nbsp;&nbsp;</span>Operating this notebook</a></div><div class=\"lev3 toc-item\"><a href=\"#Basic-Math\" data-toc-modified-id=\"Basic-Math-2.1.1\"><span class=\"toc-item-num\">2.1.1&nbsp;&nbsp;</span>Basic Math</a></div><div class=\"lev2 toc-item\"><a href=\"#Variables-and-Objects\" data-toc-modified-id=\"Variables-and-Objects-2.2\"><span class=\"toc-item-num\">2.2&nbsp;&nbsp;</span>Variables and Objects</a></div><div class=\"lev3 toc-item\"><a href=\"#Dictionaries\" data-toc-modified-id=\"Dictionaries-2.2.1\"><span class=\"toc-item-num\">2.2.1&nbsp;&nbsp;</span>Dictionaries</a></div><div class=\"lev2 toc-item\"><a href=\"#Loops-and-Functions\" data-toc-modified-id=\"Loops-and-Functions-2.3\"><span class=\"toc-item-num\">2.3&nbsp;&nbsp;</span>Loops and Functions</a></div><div class=\"lev3 toc-item\"><a href=\"#Loops\" data-toc-modified-id=\"Loops-2.3.1\"><span class=\"toc-item-num\">2.3.1&nbsp;&nbsp;</span>Loops</a></div><div class=\"lev3 toc-item\"><a href=\"#Functions\" data-toc-modified-id=\"Functions-2.3.2\"><span class=\"toc-item-num\">2.3.2&nbsp;&nbsp;</span>Functions</a></div><div class=\"lev2 toc-item\"><a href=\"#DataFrames-and-Pandas\" data-toc-modified-id=\"DataFrames-and-Pandas-2.4\"><span class=\"toc-item-num\">2.4&nbsp;&nbsp;</span>DataFrames and Pandas</a></div><div class=\"lev2 toc-item\"><a href=\"#Plotting\" data-toc-modified-id=\"Plotting-2.5\"><span class=\"toc-item-num\">2.5&nbsp;&nbsp;</span>Plotting</a></div><div class=\"lev1 toc-item\"><a href=\"#Text-Mining-Basics\" data-toc-modified-id=\"Text-Mining-Basics-3\"><span class=\"toc-item-num\">3&nbsp;&nbsp;</span>Text Mining Basics</a></div><div class=\"lev2 toc-item\"><a href=\"#Setup\" data-toc-modified-id=\"Setup-3.1\"><span class=\"toc-item-num\">3.1&nbsp;&nbsp;</span>Setup</a></div><div class=\"lev2 toc-item\"><a href=\"#Counting-Words-and-Characters\" data-toc-modified-id=\"Counting-Words-and-Characters-3.2\"><span class=\"toc-item-num\">3.2&nbsp;&nbsp;</span>Counting Words and Characters</a></div><div class=\"lev3 toc-item\"><a href=\"#Count-Stopwords\" data-toc-modified-id=\"Count-Stopwords-3.2.1\"><span class=\"toc-item-num\">3.2.1&nbsp;&nbsp;</span>Count Stopwords</a></div><div class=\"lev1 toc-item\"><a href=\"#Processing-Text\" data-toc-modified-id=\"Processing-Text-4\"><span class=\"toc-item-num\">4&nbsp;&nbsp;</span>Processing Text</a></div><div class=\"lev2 toc-item\"><a href=\"#Cleaning-Up-Words\" data-toc-modified-id=\"Cleaning-Up-Words-4.1\"><span class=\"toc-item-num\">4.1&nbsp;&nbsp;</span>Cleaning Up Words</a></div><div class=\"lev3 toc-item\"><a href=\"#Lowercase\" data-toc-modified-id=\"Lowercase-4.1.1\"><span class=\"toc-item-num\">4.1.1&nbsp;&nbsp;</span>Lowercase</a></div><div class=\"lev3 toc-item\"><a href=\"#Remove-Punctuation\" data-toc-modified-id=\"Remove-Punctuation-4.1.2\"><span class=\"toc-item-num\">4.1.2&nbsp;&nbsp;</span>Remove Punctuation</a></div><div class=\"lev3 toc-item\"><a href=\"#Remove-Stopwords\" data-toc-modified-id=\"Remove-Stopwords-4.1.3\"><span class=\"toc-item-num\">4.1.3&nbsp;&nbsp;</span>Remove Stopwords</a></div><div class=\"lev3 toc-item\"><a href=\"#Remove-Frequent-Words\" data-toc-modified-id=\"Remove-Frequent-Words-4.1.4\"><span class=\"toc-item-num\">4.1.4&nbsp;&nbsp;</span>Remove Frequent Words</a></div><div class=\"lev3 toc-item\"><a href=\"#Remove-Rare-Words\" data-toc-modified-id=\"Remove-Rare-Words-4.1.5\"><span class=\"toc-item-num\">4.1.5&nbsp;&nbsp;</span>Remove Rare Words</a></div><div class=\"lev3 toc-item\"><a href=\"#Tokenization\" data-toc-modified-id=\"Tokenization-4.1.6\"><span class=\"toc-item-num\">4.1.6&nbsp;&nbsp;</span>Tokenization</a></div><div class=\"lev2 toc-item\"><a href=\"#Stemming\" data-toc-modified-id=\"Stemming-4.2\"><span class=\"toc-item-num\">4.2&nbsp;&nbsp;</span>Stemming</a></div><div class=\"lev2 toc-item\"><a href=\"#Lemmatization\" data-toc-modified-id=\"Lemmatization-4.3\"><span class=\"toc-item-num\">4.3&nbsp;&nbsp;</span>Lemmatization</a></div><div class=\"lev1 toc-item\"><a href=\"#Advanced-Text-Processing\" data-toc-modified-id=\"Advanced-Text-Processing-5\"><span class=\"toc-item-num\">5&nbsp;&nbsp;</span>Advanced Text Processing</a></div><div class=\"lev2 toc-item\"><a href=\"#N-grams\" data-toc-modified-id=\"N-grams-5.1\"><span class=\"toc-item-num\">5.1&nbsp;&nbsp;</span>N-grams</a></div><div class=\"lev2 toc-item\"><a href=\"#Term-Frequency\" data-toc-modified-id=\"Term-Frequency-5.2\"><span class=\"toc-item-num\">5.2&nbsp;&nbsp;</span>Term Frequency</a></div><div class=\"lev2 toc-item\"><a href=\"#Inverse-Document-Frequency\" data-toc-modified-id=\"Inverse-Document-Frequency-5.3\"><span class=\"toc-item-num\">5.3&nbsp;&nbsp;</span>Inverse Document Frequency</a></div><div class=\"lev2 toc-item\"><a href=\"#Term-Frequency-–-Inverse-Document-Frequency-(TF-IDF)\" data-toc-modified-id=\"Term-Frequency-–-Inverse-Document-Frequency-(TF-IDF)-5.4\"><span class=\"toc-item-num\">5.4&nbsp;&nbsp;</span>Term Frequency – Inverse Document Frequency (TF-IDF)</a></div><div class=\"lev2 toc-item\"><a href=\"#Bag-of-Words\" data-toc-modified-id=\"Bag-of-Words-5.5\"><span class=\"toc-item-num\">5.5&nbsp;&nbsp;</span>Bag of Words</a></div><div class=\"lev2 toc-item\"><a href=\"#Sentiment-Analysis\" data-toc-modified-id=\"Sentiment-Analysis-5.6\"><span class=\"toc-item-num\">5.6&nbsp;&nbsp;</span>Sentiment Analysis</a></div>"
   ]
  },
  {
   "cell_type": "markdown",
   "metadata": {},
   "source": [
    "# Introduction to Natural Language Processing with Python\n"
   ]
  },
  {
   "cell_type": "markdown",
   "metadata": {},
   "source": [
    " By: Dr. Eric Godat and Dr. Rob Kalescky\n",
    "\n",
    " Adapted from: [Ultimate Guide to deal with Text Data (Using Python)](https://www.analyticsvidhya.com/blog/2018/02/the-different-methods-deal-text-data-predictive-python/)\n",
    " \n",
    " Natural Language Toolkit: [Documentation](http://www.nltk.org/)\n",
    " \n",
    " Reference Text: [Natural Language Processing with Python](http://www.nltk.org/book/)\n",
    " "
   ]
  },
  {
   "cell_type": "markdown",
   "metadata": {},
   "source": [
    "# Intro to Python Basics"
   ]
  },
  {
   "cell_type": "markdown",
   "metadata": {},
   "source": [
    "*This section is designed to guide you from having never used Python before to feeling comfortable with basic operations. If you already feel comfortable with this material, feel free to skip to the next section.*\n",
    "\n",
    "Python is a programming language capable of just about anything you could want to do. It is designed to be human readable and robust. This particular document is called a Jupyter Notebook. Notebooks are tools for developing Python code and running that code in small steps and see the intermediate results in line."
   ]
  },
  {
   "cell_type": "markdown",
   "metadata": {},
   "source": [
    "## Operating this notebook"
   ]
  },
  {
   "cell_type": "markdown",
   "metadata": {},
   "source": [
    "To operate this notebook, you will need to execute boxes of code, called cells. To do this you can either click the *Run* button on the toolbar or use [Shift]+[Enter].\n",
    "\n",
    "Throughout this notebook you will see cells that are not code (like this one). These cells contain text in a language called Markdown. You can execute these cells to render formatted text. A cheatsheet for Markdown can be found [here](https://github.com/adam-p/markdown-here/wiki/Markdown-Cheatsheet). There will also be comments with in the code itself that give additional information about the operation of the code, describe functions or show you places where you might want to make changes. These comments are always preceded by an octothorp (#) and in most cases be a different color from the surrounding text.\n",
    "\n",
    "Notebooks save automatically, however if you have made big changes your code, you can checkpoint it. This allows you to roll back changes to this point (or any previous checkpoints) should something break in the future.\n",
    "\n",
    "There are a few useful [keyboard shortcuts](https://gist.github.com/kidpixo/f4318f8c8143adee5b40) for modifying the cells in a notebook. To use these, click on the far left side of the cell such that the outline changes color (to blue in most cases), press [Enter]] to return to editing the cell's contents.\n",
    "\n",
    "-Add a cell **a**bove the current cell   [A]\n",
    "\n",
    "-Add a cell **b**elow the current cell   [B]\n",
    "\n",
    "-**D**elete the current cell   [D,D]\n",
    "\n",
    "**Let's try it out!**"
   ]
  },
  {
   "cell_type": "markdown",
   "metadata": {},
   "source": [
    "### Basic Math"
   ]
  },
  {
   "cell_type": "markdown",
   "metadata": {},
   "source": [
    "Python can do simple mathematical operations just like a calculator. Try executing the following cells, then add a cell and have it calculate the sum of the longitude and latitude for SMU in Taos (36.274708,-105.5781171)."
   ]
  },
  {
   "cell_type": "code",
   "execution_count": 1,
   "metadata": {},
   "outputs": [
    {
     "data": {
      "text/plain": [
       "2"
      ]
     },
     "execution_count": 1,
     "metadata": {},
     "output_type": "execute_result"
    }
   ],
   "source": [
    "1+1"
   ]
  },
  {
   "cell_type": "code",
   "execution_count": 2,
   "metadata": {},
   "outputs": [
    {
     "data": {
      "text/plain": [
       "0.5"
      ]
     },
     "execution_count": 2,
     "metadata": {},
     "output_type": "execute_result"
    }
   ],
   "source": [
    "2.5-2.0"
   ]
  },
  {
   "cell_type": "markdown",
   "metadata": {},
   "source": [
    "## Variables and Objects"
   ]
  },
  {
   "cell_type": "markdown",
   "metadata": {},
   "source": [
    "Calculations are nice but we really want to be able to store our calculations in memory so that we can access them later. We do that by assigning variables. "
   ]
  },
  {
   "cell_type": "code",
   "execution_count": 4,
   "metadata": {},
   "outputs": [],
   "source": [
    "a=2\n",
    "b=3"
   ]
  },
  {
   "cell_type": "code",
   "execution_count": 5,
   "metadata": {},
   "outputs": [
    {
     "data": {
      "text/plain": [
       "5"
      ]
     },
     "execution_count": 5,
     "metadata": {},
     "output_type": "execute_result"
    }
   ],
   "source": [
    "a+b"
   ]
  },
  {
   "cell_type": "markdown",
   "metadata": {},
   "source": [
    "Variables can be named just about anything"
   ]
  },
  {
   "cell_type": "code",
   "execution_count": 6,
   "metadata": {},
   "outputs": [],
   "source": [
    "pythoniscool=2\n",
    "EricandRob=7\n",
    "Think_Play_Hack=3"
   ]
  },
  {
   "cell_type": "code",
   "execution_count": 7,
   "metadata": {},
   "outputs": [
    {
     "data": {
      "text/plain": [
       "42"
      ]
     },
     "execution_count": 7,
     "metadata": {},
     "output_type": "execute_result"
    }
   ],
   "source": [
    "#Notice that if we assign a value to a variable, our notebook won't return that value to our screen.\n",
    "#If we want it to show us the value, we can call that variable after it is assigned.\n",
    "ouranswer = EricandRob*pythoniscool*Think_Play_Hack\n",
    "ouranswer"
   ]
  },
  {
   "cell_type": "markdown",
   "metadata": {},
   "source": [
    "So far we have been doing all of our operations on numbers, integers and floats (decimals), but there are other useful objects we can use in Python.\n",
    "\n",
    "Strings allow us to store and operate on text data. Strings in Python are surrounded by either single quotes '' or double quotes \"\"."
   ]
  },
  {
   "cell_type": "code",
   "execution_count": 8,
   "metadata": {},
   "outputs": [
    {
     "data": {
      "text/plain": [
       "'I Thought, I Played, I Hacked'"
      ]
     },
     "execution_count": 8,
     "metadata": {},
     "output_type": "execute_result"
    }
   ],
   "source": [
    "ourstring = \"I Thought, I Played, I Hacked\"\n",
    "ourstring"
   ]
  },
  {
   "cell_type": "markdown",
   "metadata": {},
   "source": [
    "Uncomment the next cell and try making a string of your own."
   ]
  },
  {
   "cell_type": "code",
   "execution_count": 9,
   "metadata": {},
   "outputs": [],
   "source": [
    "#mystring = <put your string here>\n",
    "#mystring"
   ]
  },
  {
   "cell_type": "markdown",
   "metadata": {},
   "source": [
    "If we later want to see the value stored in a variable we can always use the built in **print** function"
   ]
  },
  {
   "cell_type": "code",
   "execution_count": 10,
   "metadata": {},
   "outputs": [
    {
     "name": "stdout",
     "output_type": "stream",
     "text": [
      "I Thought, I Played, I Hacked\n"
     ]
    }
   ],
   "source": [
    "print(ourstring)"
   ]
  },
  {
   "cell_type": "markdown",
   "metadata": {},
   "source": [
    "What if we want to have multiple strings stored at once but we don't want to assign a bunch of variables? Then we can use a list.\n",
    "\n",
    "Lists are enclosed by brackets [] and separated by commas."
   ]
  },
  {
   "cell_type": "code",
   "execution_count": 11,
   "metadata": {},
   "outputs": [],
   "source": [
    "ourlist = ['This', 'is', \"a\", \"list\", 'of', \"strings\"]"
   ]
  },
  {
   "cell_type": "code",
   "execution_count": 12,
   "metadata": {},
   "outputs": [
    {
     "name": "stdout",
     "output_type": "stream",
     "text": [
      "['This', 'is', 'a', 'list', 'of', 'strings']\n"
     ]
    }
   ],
   "source": [
    "print(ourlist)"
   ]
  },
  {
   "cell_type": "markdown",
   "metadata": {},
   "source": [
    "To access individual elements in a list you call it by its reference number.\n",
    "\n",
    "*__Note:__ In Python, counting starts with 0. Thus in the list [a,b,c], a is the 0th element and c is the 2nd*"
   ]
  },
  {
   "cell_type": "code",
   "execution_count": 13,
   "metadata": {},
   "outputs": [],
   "source": [
    "first = ourlist[0]"
   ]
  },
  {
   "cell_type": "code",
   "execution_count": 14,
   "metadata": {},
   "outputs": [],
   "source": [
    "# Notice we can call the last element by using a negative reference number. This lets us end without knowing how long the list is.\n",
    "last = ourlist[-1]"
   ]
  },
  {
   "cell_type": "code",
   "execution_count": 15,
   "metadata": {},
   "outputs": [
    {
     "name": "stdout",
     "output_type": "stream",
     "text": [
      "This strings\n"
     ]
    }
   ],
   "source": [
    "print(first,last)"
   ]
  },
  {
   "cell_type": "code",
   "execution_count": 16,
   "metadata": {},
   "outputs": [
    {
     "data": {
      "text/plain": [
       "6"
      ]
     },
     "execution_count": 16,
     "metadata": {},
     "output_type": "execute_result"
    }
   ],
   "source": [
    "# If we did want to know the length of our list we can use the len() function\n",
    "len(ourlist)"
   ]
  },
  {
   "cell_type": "markdown",
   "metadata": {},
   "source": [
    "Try making a list and printing the 2nd element from your list."
   ]
  },
  {
   "cell_type": "code",
   "execution_count": 17,
   "metadata": {},
   "outputs": [],
   "source": [
    "#mylist=\n",
    "#\n",
    "#"
   ]
  },
  {
   "cell_type": "markdown",
   "metadata": {},
   "source": [
    "### Dictionaries"
   ]
  },
  {
   "cell_type": "markdown",
   "metadata": {},
   "source": [
    "Dictionaries are a different way of storing data than lists. They rely on a key and value system as opposed to the order of the entries.\n",
    "\n",
    "Dictionaries are enclosed in curly braces {}, the key and value are separated by a colon : and entries are separated by commas ,\n",
    "\n",
    "Values can then be accessed by referencing the key."
   ]
  },
  {
   "cell_type": "code",
   "execution_count": 18,
   "metadata": {},
   "outputs": [
    {
     "data": {
      "text/plain": [
       "{'Dallas': 1341000, 'Plano': 286143, 'Taos': 5668}"
      ]
     },
     "execution_count": 18,
     "metadata": {},
     "output_type": "execute_result"
    }
   ],
   "source": [
    "ourdictonary = {\"Dallas\":1341000,\"Plano\":286143,\"Taos\":5668}\n",
    "ourdictonary"
   ]
  },
  {
   "cell_type": "code",
   "execution_count": 19,
   "metadata": {},
   "outputs": [
    {
     "data": {
      "text/plain": [
       "5668"
      ]
     },
     "execution_count": 19,
     "metadata": {},
     "output_type": "execute_result"
    }
   ],
   "source": [
    "ourdictonary[\"Taos\"]"
   ]
  },
  {
   "cell_type": "markdown",
   "metadata": {},
   "source": [
    "Below are the word counts for the *Lord of the Rings* books ([citation](http://lotrproject.com/statistics/books/wordscount)). Can you build a dictionary of the information and then calculate the difference between the *Fellowship of the Ring* and *The Hobbit* and the total number of words for books in the *Lord of the Rings* Trilogy?\n",
    "\n",
    "|__Book__|__Word Count__|\n",
    "|---|---|\n",
    "|The Silmarillion|130115|\n",
    "|The Hobbit|95356|\n",
    "|The Fellowship of the Ring|187790|\n",
    "|The Two Towers|156198|\n",
    "|The Return of the King|137115|"
   ]
  },
  {
   "cell_type": "markdown",
   "metadata": {},
   "source": [
    "#Convert this cell to code to see the answers. Either use the dropdown menu in the toolbar or click on the left side of the cell and hit [Y]\n",
    "\n",
    "tolkien = {\"The Silmarillion\":130115,\"The Hobbit\":95356,\"The Fellowship of the Ring\":187790, \"The Two Towers\":156198, \"The Return of the King\":137115}\n",
    "\n",
    "bilbo=tolkien[\"The Hobbit\"]\n",
    "\n",
    "frodo=tolkien[\"The Fellowship of the Ring\"]\n",
    "\n",
    "print(\"The Fellowship of the Ring - The Hobbit\")\n",
    "\n",
    "print(frodo-bilbo)\n",
    "\n",
    "print(\"Total Words for the Lord of the Rings Trilogy\")\n",
    "\n",
    "print(tolkien[\"The Fellowship of the Ring\"]+tolkien[\"The Two Towers\"]+tolkien[\"The Return of the King\"])\n"
   ]
  },
  {
   "cell_type": "markdown",
   "metadata": {},
   "source": [
    "## Loops and Functions"
   ]
  },
  {
   "cell_type": "markdown",
   "metadata": {},
   "source": [
    "Computers are much better at doing simple repeatable tasks than humans are so to leverage this advantage, we will cover two different ways of writing these kind of repeatable instructions."
   ]
  },
  {
   "cell_type": "markdown",
   "metadata": {},
   "source": [
    "### Loops"
   ]
  },
  {
   "cell_type": "markdown",
   "metadata": {},
   "source": [
    "Loops are a way of having Python complete a task over and over.\n",
    "\n",
    "The most common form if a **for** loop. A **for** loop completes a task a fixed number of times by iterating a variable over the members of a sequence in order."
   ]
  },
  {
   "cell_type": "code",
   "execution_count": 21,
   "metadata": {},
   "outputs": [
    {
     "name": "stdout",
     "output_type": "stream",
     "text": [
      "0\n",
      "1\n",
      "2\n"
     ]
    }
   ],
   "source": [
    "#Example for loop\n",
    "for i in [0,1,2]:\n",
    "    print(i)"
   ]
  },
  {
   "cell_type": "markdown",
   "metadata": {},
   "source": [
    "**Note**: The indention is important, it tells python that the line *print(i)* belongs inside the loop."
   ]
  },
  {
   "cell_type": "markdown",
   "metadata": {},
   "source": [
    "### Functions"
   ]
  },
  {
   "cell_type": "markdown",
   "metadata": {},
   "source": [
    "Sometimes it would be nice to be able to save a group of instructions in a single block, that way we won't need to rewrite several lines of code each time we want to do that set of operations.\n",
    "\n",
    "To do this we define a **function**.\n",
    "\n",
    "Functions allow us to define a more complicated set of instructions as a single entity and call that entire block of code directly\n",
    "\n",
    "Functions are defined (*def*), named (lowercase is a standard practice) and accept arguments (). They then can return a value if needed (*return*)\n",
    "\n",
    "Python has several built in functions (*print()* is a good example) and when you combine external packages and libraries, there are functions for just about everything you could think of."
   ]
  },
  {
   "cell_type": "code",
   "execution_count": 22,
   "metadata": {},
   "outputs": [],
   "source": [
    "# Example function\n",
    "def square_me(n):\n",
    "    return n*n"
   ]
  },
  {
   "cell_type": "code",
   "execution_count": 23,
   "metadata": {},
   "outputs": [
    {
     "data": {
      "text/plain": [
       "16"
      ]
     },
     "execution_count": 23,
     "metadata": {},
     "output_type": "execute_result"
    }
   ],
   "source": [
    "square_me(4)"
   ]
  },
  {
   "cell_type": "markdown",
   "metadata": {},
   "source": [
    "Try defining your own function that takes 2 arguments and adds them together."
   ]
  },
  {
   "cell_type": "code",
   "execution_count": 24,
   "metadata": {},
   "outputs": [],
   "source": [
    "#def add_me\n",
    "#\n",
    "#"
   ]
  },
  {
   "cell_type": "code",
   "execution_count": 25,
   "metadata": {},
   "outputs": [],
   "source": [
    "#add_me(7,11)"
   ]
  },
  {
   "cell_type": "markdown",
   "metadata": {},
   "source": [
    "Putting loops and functions together is where python can become very powerful."
   ]
  },
  {
   "cell_type": "code",
   "execution_count": 26,
   "metadata": {},
   "outputs": [
    {
     "name": "stdout",
     "output_type": "stream",
     "text": [
      "0\n",
      "1\n",
      "4\n",
      "9\n"
     ]
    }
   ],
   "source": [
    "# Looping over a function\n",
    "for i in [0,1,2,3]:\n",
    "    print(square_me(i))"
   ]
  },
  {
   "cell_type": "code",
   "execution_count": 27,
   "metadata": {},
   "outputs": [],
   "source": [
    "# A function with a loop\n",
    "def print_numbers(start,stop):\n",
    "    for i in range(start,stop): #Here the range() function gives us all the values from start up to the stop value\n",
    "        print(i)"
   ]
  },
  {
   "cell_type": "code",
   "execution_count": 28,
   "metadata": {},
   "outputs": [
    {
     "name": "stdout",
     "output_type": "stream",
     "text": [
      "0\n",
      "1\n",
      "2\n",
      "3\n"
     ]
    }
   ],
   "source": [
    "print_numbers(0,4)"
   ]
  },
  {
   "cell_type": "markdown",
   "metadata": {},
   "source": [
    "## DataFrames and Pandas"
   ]
  },
  {
   "cell_type": "markdown",
   "metadata": {},
   "source": [
    "Now it is time to use what we have learned to start doing some data science.\n",
    "\n",
    "Pandas is the name of a library in which there are functions and tools for doing operations common in data analysis and data science. One particularly great feature is the DataFrame structure which allows us to work with an object similar to an Excel spreadsheet but with the flexibility and power of Python behind it.\n",
    "\n",
    "First we will need to import the pandas library and create a DataFrame. DataFrames are can also be created when you import files (like csv's) or tables from a database (like SQL)."
   ]
  },
  {
   "cell_type": "code",
   "execution_count": 29,
   "metadata": {},
   "outputs": [],
   "source": [
    "import pandas as pd #Pandas is often aliased as pd to simplify calling its functions"
   ]
  },
  {
   "cell_type": "code",
   "execution_count": 30,
   "metadata": {},
   "outputs": [
    {
     "data": {
      "text/html": [
       "<div>\n",
       "<style scoped>\n",
       "    .dataframe tbody tr th:only-of-type {\n",
       "        vertical-align: middle;\n",
       "    }\n",
       "\n",
       "    .dataframe tbody tr th {\n",
       "        vertical-align: top;\n",
       "    }\n",
       "\n",
       "    .dataframe thead th {\n",
       "        text-align: right;\n",
       "    }\n",
       "</style>\n",
       "<table border=\"1\" class=\"dataframe\">\n",
       "  <thead>\n",
       "    <tr style=\"text-align: right;\">\n",
       "      <th></th>\n",
       "      <th>Books</th>\n",
       "      <th>Words</th>\n",
       "    </tr>\n",
       "  </thead>\n",
       "  <tbody>\n",
       "    <tr>\n",
       "      <th>0</th>\n",
       "      <td>The Silmarillion</td>\n",
       "      <td>130115</td>\n",
       "    </tr>\n",
       "    <tr>\n",
       "      <th>1</th>\n",
       "      <td>The Hobbit</td>\n",
       "      <td>95356</td>\n",
       "    </tr>\n",
       "    <tr>\n",
       "      <th>2</th>\n",
       "      <td>The Fellowship of the Ring</td>\n",
       "      <td>187790</td>\n",
       "    </tr>\n",
       "    <tr>\n",
       "      <th>3</th>\n",
       "      <td>The Two Towers</td>\n",
       "      <td>156198</td>\n",
       "    </tr>\n",
       "    <tr>\n",
       "      <th>4</th>\n",
       "      <td>The Return of the King</td>\n",
       "      <td>137115</td>\n",
       "    </tr>\n",
       "  </tbody>\n",
       "</table>\n",
       "</div>"
      ],
      "text/plain": [
       "                        Books   Words\n",
       "0            The Silmarillion  130115\n",
       "1                  The Hobbit   95356\n",
       "2  The Fellowship of the Ring  187790\n",
       "3              The Two Towers  156198\n",
       "4      The Return of the King  137115"
      ]
     },
     "execution_count": 30,
     "metadata": {},
     "output_type": "execute_result"
    }
   ],
   "source": [
    "#Notice here the data is a dictionary, similar to the one we used above but with the titles and wordcounts as nested lists\n",
    "d = {\"Books\":[\"The Silmarillion\",\"The Hobbit\",\"The Fellowship of the Ring\",\"The Two Towers\",\"The Return of the King\"],\n",
    "     \"Words\":[130115,95356,187790,156198,137115]}\n",
    "df = pd.DataFrame(d)\n",
    "df"
   ]
  },
  {
   "cell_type": "markdown",
   "metadata": {},
   "source": [
    "Now we can operate on entire rows or columns in our DataFrame."
   ]
  },
  {
   "cell_type": "code",
   "execution_count": 31,
   "metadata": {},
   "outputs": [
    {
     "data": {
      "text/plain": [
       "0              The Silmarillion\n",
       "1                    The Hobbit\n",
       "2    The Fellowship of the Ring\n",
       "3                The Two Towers\n",
       "4        The Return of the King\n",
       "Name: Books, dtype: object"
      ]
     },
     "execution_count": 31,
     "metadata": {},
     "output_type": "execute_result"
    }
   ],
   "source": [
    "df[\"Books\"] #Selecting the column \"Books\""
   ]
  },
  {
   "cell_type": "code",
   "execution_count": 32,
   "metadata": {},
   "outputs": [
    {
     "data": {
      "text/html": [
       "<div>\n",
       "<style scoped>\n",
       "    .dataframe tbody tr th:only-of-type {\n",
       "        vertical-align: middle;\n",
       "    }\n",
       "\n",
       "    .dataframe tbody tr th {\n",
       "        vertical-align: top;\n",
       "    }\n",
       "\n",
       "    .dataframe thead th {\n",
       "        text-align: right;\n",
       "    }\n",
       "</style>\n",
       "<table border=\"1\" class=\"dataframe\">\n",
       "  <thead>\n",
       "    <tr style=\"text-align: right;\">\n",
       "      <th></th>\n",
       "      <th>Books</th>\n",
       "      <th>Words</th>\n",
       "    </tr>\n",
       "  </thead>\n",
       "  <tbody>\n",
       "    <tr>\n",
       "      <th>0</th>\n",
       "      <td>The Silmarillion</td>\n",
       "      <td>130115</td>\n",
       "    </tr>\n",
       "    <tr>\n",
       "      <th>1</th>\n",
       "      <td>The Hobbit</td>\n",
       "      <td>95356</td>\n",
       "    </tr>\n",
       "  </tbody>\n",
       "</table>\n",
       "</div>"
      ],
      "text/plain": [
       "              Books   Words\n",
       "0  The Silmarillion  130115\n",
       "1        The Hobbit   95356"
      ]
     },
     "execution_count": 32,
     "metadata": {},
     "output_type": "execute_result"
    }
   ],
   "source": [
    "df[:2] #Selecting the first 2 rows"
   ]
  },
  {
   "cell_type": "code",
   "execution_count": 33,
   "metadata": {},
   "outputs": [
    {
     "data": {
      "text/html": [
       "<div>\n",
       "<style scoped>\n",
       "    .dataframe tbody tr th:only-of-type {\n",
       "        vertical-align: middle;\n",
       "    }\n",
       "\n",
       "    .dataframe tbody tr th {\n",
       "        vertical-align: top;\n",
       "    }\n",
       "\n",
       "    .dataframe thead th {\n",
       "        text-align: right;\n",
       "    }\n",
       "</style>\n",
       "<table border=\"1\" class=\"dataframe\">\n",
       "  <thead>\n",
       "    <tr style=\"text-align: right;\">\n",
       "      <th></th>\n",
       "      <th>Books</th>\n",
       "      <th>Words</th>\n",
       "    </tr>\n",
       "  </thead>\n",
       "  <tbody>\n",
       "    <tr>\n",
       "      <th>2</th>\n",
       "      <td>The Fellowship of the Ring</td>\n",
       "      <td>187790</td>\n",
       "    </tr>\n",
       "    <tr>\n",
       "      <th>3</th>\n",
       "      <td>The Two Towers</td>\n",
       "      <td>156198</td>\n",
       "    </tr>\n",
       "  </tbody>\n",
       "</table>\n",
       "</div>"
      ],
      "text/plain": [
       "                        Books   Words\n",
       "2  The Fellowship of the Ring  187790\n",
       "3              The Two Towers  156198"
      ]
     },
     "execution_count": 33,
     "metadata": {},
     "output_type": "execute_result"
    }
   ],
   "source": [
    "df[2:4] #Selecting rows 2 up to 4"
   ]
  },
  {
   "cell_type": "code",
   "execution_count": 34,
   "metadata": {},
   "outputs": [
    {
     "data": {
      "text/plain": [
       "2    187790\n",
       "3    156198\n",
       "Name: Words, dtype: int64"
      ]
     },
     "execution_count": 34,
     "metadata": {},
     "output_type": "execute_result"
    }
   ],
   "source": [
    "df[\"Words\"][2:4] #Selecting the second and third row from the \"Words\" column."
   ]
  },
  {
   "cell_type": "code",
   "execution_count": 35,
   "metadata": {},
   "outputs": [
    {
     "data": {
      "text/plain": [
       "2    187790\n",
       "3    156198\n",
       "Name: Words, dtype: int64"
      ]
     },
     "execution_count": 35,
     "metadata": {},
     "output_type": "execute_result"
    }
   ],
   "source": [
    "df[2:4][\"Words\"] #Same result but from the opposite order"
   ]
  },
  {
   "cell_type": "markdown",
   "metadata": {},
   "source": [
    "You can also operate on entire columns in your DataFrame. Just be careful because this can give you unexpected results."
   ]
  },
  {
   "cell_type": "code",
   "execution_count": 36,
   "metadata": {},
   "outputs": [
    {
     "data": {
      "text/plain": [
       "706574"
      ]
     },
     "execution_count": 36,
     "metadata": {},
     "output_type": "execute_result"
    }
   ],
   "source": [
    "total = sum(df[\"Words\"])\n",
    "total"
   ]
  },
  {
   "cell_type": "markdown",
   "metadata": {},
   "source": [
    "## Plotting"
   ]
  },
  {
   "cell_type": "markdown",
   "metadata": {},
   "source": [
    "Visualizing data is incredibly important when trying to convey findings. There are several libraries available for doing data visualization. Pandas has some built in plotting functionality, but we have provided access to MatPlotLib, Plotly and Seaborn as well."
   ]
  },
  {
   "cell_type": "code",
   "execution_count": 37,
   "metadata": {},
   "outputs": [],
   "source": [
    "# This is only needed in this case because we wanted to show the names of the books. You could make a similar plot with just Pandas.\n",
    "import matplotlib\n",
    "%matplotlib inline\n",
    "# This allows the plot to be shown inline in the notebook"
   ]
  },
  {
   "cell_type": "code",
   "execution_count": 38,
   "metadata": {},
   "outputs": [
    {
     "data": {
      "image/png": "[encoded data removed]",
      "text/plain": [
       "<Figure size 432x288 with 1 Axes>"
      ]
     },
     "metadata": {
      "needs_background": "light"
     },
     "output_type": "display_data"
    }
   ],
   "source": [
    "plot = df.plot(kind='bar')\n",
    "plot.set_xticklabels(df['Books']); #This lets us rename the x axis labels"
   ]
  },
  {
   "cell_type": "markdown",
   "metadata": {},
   "source": [
    "That concludes our tutorial for basic Python.\n",
    "\n",
    "As you proceed forward, the remainder of this notebook is focused on mining text data."
   ]
  },
  {
   "cell_type": "markdown",
   "metadata": {},
   "source": [
    "# Text Mining Basics"
   ]
  },
  {
   "cell_type": "markdown",
   "metadata": {},
   "source": [
    "## Setup"
   ]
  },
  {
   "cell_type": "code",
   "execution_count": 39,
   "metadata": {},
   "outputs": [],
   "source": [
    "import pandas as pd\n",
    "import numpy as np"
   ]
  },
  {
   "cell_type": "code",
   "execution_count": 40,
   "metadata": {},
   "outputs": [],
   "source": [
    "folk = pd.read_csv('folktales.csv')"
   ]
  },
  {
   "cell_type": "markdown",
   "metadata": {},
   "source": [
    "## Counting Words and Characters"
   ]
  },
  {
   "cell_type": "code",
   "execution_count": 41,
   "metadata": {},
   "outputs": [
    {
     "data": {
      "text/html": [
       "<div>\n",
       "<style scoped>\n",
       "    .dataframe tbody tr th:only-of-type {\n",
       "        vertical-align: middle;\n",
       "    }\n",
       "\n",
       "    .dataframe tbody tr th {\n",
       "        vertical-align: top;\n",
       "    }\n",
       "\n",
       "    .dataframe thead th {\n",
       "        text-align: right;\n",
       "    }\n",
       "</style>\n",
       "<table border=\"1\" class=\"dataframe\">\n",
       "  <thead>\n",
       "    <tr style=\"text-align: right;\">\n",
       "      <th></th>\n",
       "      <th>Story</th>\n",
       "      <th>wordcount</th>\n",
       "    </tr>\n",
       "  </thead>\n",
       "  <tbody>\n",
       "    <tr>\n",
       "      <th>0</th>\n",
       "      <td>A cat had made the acquaintance of a mouse, an...</td>\n",
       "      <td>987</td>\n",
       "    </tr>\n",
       "    <tr>\n",
       "      <th>1</th>\n",
       "      <td>There was once an old goat who had seven littl...</td>\n",
       "      <td>1037</td>\n",
       "    </tr>\n",
       "    <tr>\n",
       "      <th>2</th>\n",
       "      <td>ONCE upon a time there was an old king who was...</td>\n",
       "      <td>3068</td>\n",
       "    </tr>\n",
       "    <tr>\n",
       "      <th>3</th>\n",
       "      <td>There was once a peasant who had driven his co...</td>\n",
       "      <td>1723</td>\n",
       "    </tr>\n",
       "    <tr>\n",
       "      <th>4</th>\n",
       "      <td>There was once a wonderful musician, who went ...</td>\n",
       "      <td>1066</td>\n",
       "    </tr>\n",
       "  </tbody>\n",
       "</table>\n",
       "</div>"
      ],
      "text/plain": [
       "                                               Story  wordcount\n",
       "0  A cat had made the acquaintance of a mouse, an...        987\n",
       "1  There was once an old goat who had seven littl...       1037\n",
       "2  ONCE upon a time there was an old king who was...       3068\n",
       "3  There was once a peasant who had driven his co...       1723\n",
       "4  There was once a wonderful musician, who went ...       1066"
      ]
     },
     "execution_count": 41,
     "metadata": {},
     "output_type": "execute_result"
    }
   ],
   "source": [
    "folk['wordcount'] = folk['Story'].apply(lambda x: len(str(x).split(\" \")))\n",
    "folk[['Story','wordcount']].head()"
   ]
  },
  {
   "cell_type": "code",
   "execution_count": 42,
   "metadata": {},
   "outputs": [
    {
     "data": {
      "text/html": [
       "<div>\n",
       "<style scoped>\n",
       "    .dataframe tbody tr th:only-of-type {\n",
       "        vertical-align: middle;\n",
       "    }\n",
       "\n",
       "    .dataframe tbody tr th {\n",
       "        vertical-align: top;\n",
       "    }\n",
       "\n",
       "    .dataframe thead th {\n",
       "        text-align: right;\n",
       "    }\n",
       "</style>\n",
       "<table border=\"1\" class=\"dataframe\">\n",
       "  <thead>\n",
       "    <tr style=\"text-align: right;\">\n",
       "      <th></th>\n",
       "      <th>Story</th>\n",
       "      <th>char_count</th>\n",
       "    </tr>\n",
       "  </thead>\n",
       "  <tbody>\n",
       "    <tr>\n",
       "      <th>0</th>\n",
       "      <td>A cat had made the acquaintance of a mouse, an...</td>\n",
       "      <td>5108</td>\n",
       "    </tr>\n",
       "    <tr>\n",
       "      <th>1</th>\n",
       "      <td>There was once an old goat who had seven littl...</td>\n",
       "      <td>5343</td>\n",
       "    </tr>\n",
       "    <tr>\n",
       "      <th>2</th>\n",
       "      <td>ONCE upon a time there was an old king who was...</td>\n",
       "      <td>15999</td>\n",
       "    </tr>\n",
       "    <tr>\n",
       "      <th>3</th>\n",
       "      <td>There was once a peasant who had driven his co...</td>\n",
       "      <td>8907</td>\n",
       "    </tr>\n",
       "    <tr>\n",
       "      <th>4</th>\n",
       "      <td>There was once a wonderful musician, who went ...</td>\n",
       "      <td>5592</td>\n",
       "    </tr>\n",
       "  </tbody>\n",
       "</table>\n",
       "</div>"
      ],
      "text/plain": [
       "                                               Story  char_count\n",
       "0  A cat had made the acquaintance of a mouse, an...        5108\n",
       "1  There was once an old goat who had seven littl...        5343\n",
       "2  ONCE upon a time there was an old king who was...       15999\n",
       "3  There was once a peasant who had driven his co...        8907\n",
       "4  There was once a wonderful musician, who went ...        5592"
      ]
     },
     "execution_count": 42,
     "metadata": {},
     "output_type": "execute_result"
    }
   ],
   "source": [
    "folk['char_count'] = folk['Story'].str.len() ## this also includes spaces\n",
    "folk[['Story','char_count']].head()"
   ]
  },
  {
   "cell_type": "code",
   "execution_count": null,
   "metadata": {},
   "outputs": [],
   "source": []
  },
  {
   "cell_type": "code",
   "execution_count": 43,
   "metadata": {},
   "outputs": [
    {
     "data": {
      "text/html": [
       "<div>\n",
       "<style scoped>\n",
       "    .dataframe tbody tr th:only-of-type {\n",
       "        vertical-align: middle;\n",
       "    }\n",
       "\n",
       "    .dataframe tbody tr th {\n",
       "        vertical-align: top;\n",
       "    }\n",
       "\n",
       "    .dataframe thead th {\n",
       "        text-align: right;\n",
       "    }\n",
       "</style>\n",
       "<table border=\"1\" class=\"dataframe\">\n",
       "  <thead>\n",
       "    <tr style=\"text-align: right;\">\n",
       "      <th></th>\n",
       "      <th>Story</th>\n",
       "      <th>avg_word</th>\n",
       "    </tr>\n",
       "  </thead>\n",
       "  <tbody>\n",
       "    <tr>\n",
       "      <th>0</th>\n",
       "      <td>A cat had made the acquaintance of a mouse, an...</td>\n",
       "      <td>4.176292</td>\n",
       "    </tr>\n",
       "    <tr>\n",
       "      <th>1</th>\n",
       "      <td>There was once an old goat who had seven littl...</td>\n",
       "      <td>4.153327</td>\n",
       "    </tr>\n",
       "    <tr>\n",
       "      <th>2</th>\n",
       "      <td>ONCE upon a time there was an old king who was...</td>\n",
       "      <td>4.215124</td>\n",
       "    </tr>\n",
       "    <tr>\n",
       "      <th>3</th>\n",
       "      <td>There was once a peasant who had driven his co...</td>\n",
       "      <td>4.170052</td>\n",
       "    </tr>\n",
       "    <tr>\n",
       "      <th>4</th>\n",
       "      <td>There was once a wonderful musician, who went ...</td>\n",
       "      <td>4.246717</td>\n",
       "    </tr>\n",
       "  </tbody>\n",
       "</table>\n",
       "</div>"
      ],
      "text/plain": [
       "                                               Story  avg_word\n",
       "0  A cat had made the acquaintance of a mouse, an...  4.176292\n",
       "1  There was once an old goat who had seven littl...  4.153327\n",
       "2  ONCE upon a time there was an old king who was...  4.215124\n",
       "3  There was once a peasant who had driven his co...  4.170052\n",
       "4  There was once a wonderful musician, who went ...  4.246717"
      ]
     },
     "execution_count": 43,
     "metadata": {},
     "output_type": "execute_result"
    }
   ],
   "source": [
    "def avg_word(sentence):\n",
    "    words = sentence.split()\n",
    "    return (sum(len(word) for word in words)/len(words))\n",
    "\n",
    "folk['avg_word'] = folk['Story'].apply(lambda x: avg_word(x))\n",
    "folk[['Story','avg_word']].head()"
   ]
  },
  {
   "cell_type": "markdown",
   "metadata": {},
   "source": [
    "### Count Stopwords"
   ]
  },
  {
   "cell_type": "code",
   "execution_count": 44,
   "metadata": {},
   "outputs": [
    {
     "data": {
      "text/html": [
       "<div>\n",
       "<style scoped>\n",
       "    .dataframe tbody tr th:only-of-type {\n",
       "        vertical-align: middle;\n",
       "    }\n",
       "\n",
       "    .dataframe tbody tr th {\n",
       "        vertical-align: top;\n",
       "    }\n",
       "\n",
       "    .dataframe thead th {\n",
       "        text-align: right;\n",
       "    }\n",
       "</style>\n",
       "<table border=\"1\" class=\"dataframe\">\n",
       "  <thead>\n",
       "    <tr style=\"text-align: right;\">\n",
       "      <th></th>\n",
       "      <th>Story</th>\n",
       "      <th>stopwords</th>\n",
       "    </tr>\n",
       "  </thead>\n",
       "  <tbody>\n",
       "    <tr>\n",
       "      <th>0</th>\n",
       "      <td>A cat had made the acquaintance of a mouse, an...</td>\n",
       "      <td>446</td>\n",
       "    </tr>\n",
       "    <tr>\n",
       "      <th>1</th>\n",
       "      <td>There was once an old goat who had seven littl...</td>\n",
       "      <td>505</td>\n",
       "    </tr>\n",
       "    <tr>\n",
       "      <th>2</th>\n",
       "      <td>ONCE upon a time there was an old king who was...</td>\n",
       "      <td>1471</td>\n",
       "    </tr>\n",
       "    <tr>\n",
       "      <th>3</th>\n",
       "      <td>There was once a peasant who had driven his co...</td>\n",
       "      <td>745</td>\n",
       "    </tr>\n",
       "    <tr>\n",
       "      <th>4</th>\n",
       "      <td>There was once a wonderful musician, who went ...</td>\n",
       "      <td>470</td>\n",
       "    </tr>\n",
       "  </tbody>\n",
       "</table>\n",
       "</div>"
      ],
      "text/plain": [
       "                                               Story  stopwords\n",
       "0  A cat had made the acquaintance of a mouse, an...        446\n",
       "1  There was once an old goat who had seven littl...        505\n",
       "2  ONCE upon a time there was an old king who was...       1471\n",
       "3  There was once a peasant who had driven his co...        745\n",
       "4  There was once a wonderful musician, who went ...        470"
      ]
     },
     "execution_count": 44,
     "metadata": {},
     "output_type": "execute_result"
    }
   ],
   "source": [
    "from nltk.corpus import stopwords\n",
    "stop = stopwords.words('english')\n",
    "\n",
    "folk['stopwords'] = folk['Story'].apply(lambda x: len([x for x in x.split() if x in stop]))\n",
    "folk[['Story','stopwords']].head()"
   ]
  },
  {
   "cell_type": "markdown",
   "metadata": {},
   "source": [
    "# Processing Text"
   ]
  },
  {
   "cell_type": "markdown",
   "metadata": {},
   "source": [
    "## Cleaning Up Words"
   ]
  },
  {
   "cell_type": "markdown",
   "metadata": {},
   "source": [
    "### Lowercase"
   ]
  },
  {
   "cell_type": "code",
   "execution_count": 45,
   "metadata": {},
   "outputs": [
    {
     "data": {
      "text/plain": [
       "0    a cat had made the acquaintance of a mouse, an...\n",
       "1    there was once an old goat who had seven littl...\n",
       "2    once upon a time there was an old king who was...\n",
       "3    there was once a peasant who had driven his co...\n",
       "4    there was once a wonderful musician, who went ...\n",
       "Name: Story, dtype: object"
      ]
     },
     "execution_count": 45,
     "metadata": {},
     "output_type": "execute_result"
    }
   ],
   "source": [
    "folk['Story'] = folk['Story'].apply(lambda x: \" \".join(x.lower() for x in x.split()))\n",
    "folk['Story'].head()"
   ]
  },
  {
   "cell_type": "markdown",
   "metadata": {},
   "source": [
    "### Remove Punctuation"
   ]
  },
  {
   "cell_type": "code",
   "execution_count": 46,
   "metadata": {},
   "outputs": [
    {
     "data": {
      "text/plain": [
       "0    a cat had made the acquaintance of a mouse and...\n",
       "1    there was once an old goat who had seven littl...\n",
       "2    once upon a time there was an old king who was...\n",
       "3    there was once a peasant who had driven his co...\n",
       "4    there was once a wonderful musician who went q...\n",
       "Name: Story, dtype: object"
      ]
     },
     "execution_count": 46,
     "metadata": {},
     "output_type": "execute_result"
    }
   ],
   "source": [
    "folk['Story'] = folk['Story'].str.replace('[^\\w\\s]','')\n",
    "folk['Story'].head()"
   ]
  },
  {
   "cell_type": "markdown",
   "metadata": {},
   "source": [
    "### Remove Stopwords"
   ]
  },
  {
   "cell_type": "code",
   "execution_count": 47,
   "metadata": {},
   "outputs": [
    {
     "data": {
      "text/plain": [
       "0    cat made acquaintance mouse said much great lo...\n",
       "1    old goat seven little ones fond ever mother ch...\n",
       "2    upon time old king ill thought likely deathbed...\n",
       "3    peasant driven cow fair sold seven thalers way...\n",
       "4    wonderful musician went quite alone forest tho...\n",
       "Name: Story, dtype: object"
      ]
     },
     "execution_count": 47,
     "metadata": {},
     "output_type": "execute_result"
    }
   ],
   "source": [
    "from nltk.corpus import stopwords\n",
    "stop = stopwords.words('english')\n",
    "folk['Story'] = folk['Story'].apply(lambda x: \" \".join(x for x in x.split() if x not in stop))\n",
    "folk['Story'].head()"
   ]
  },
  {
   "cell_type": "markdown",
   "metadata": {},
   "source": [
    "### Remove Frequent Words"
   ]
  },
  {
   "cell_type": "code",
   "execution_count": 48,
   "metadata": {},
   "outputs": [
    {
     "data": {
      "text/plain": [
       "said      9644\n",
       "one       4980\n",
       "came      3502\n",
       "little    3489\n",
       "went      3317\n",
       "could     3040\n",
       "would     3023\n",
       "king      2846\n",
       "old       2764\n",
       "man       2375\n",
       "dtype: int64"
      ]
     },
     "execution_count": 48,
     "metadata": {},
     "output_type": "execute_result"
    }
   ],
   "source": [
    "freq = pd.Series(' '.join(folk['Story']).split()).value_counts()[:10]\n",
    "freq"
   ]
  },
  {
   "cell_type": "code",
   "execution_count": 49,
   "metadata": {},
   "outputs": [
    {
     "data": {
      "text/plain": [
       "0    cat made acquaintance mouse much great love fr...\n",
       "1    goat seven ones fond ever mother children day ...\n",
       "2    upon time ill thought likely deathbed send tru...\n",
       "3    peasant driven cow fair sold seven thalers way...\n",
       "4    wonderful musician quite alone forest thought ...\n",
       "Name: Story, dtype: object"
      ]
     },
     "execution_count": 49,
     "metadata": {},
     "output_type": "execute_result"
    }
   ],
   "source": [
    "freq = list(freq.index)\n",
    "folk['Story'] = folk['Story'].apply(lambda x: \" \".join(x for x in x.split() if x not in freq))\n",
    "folk['Story'].head()"
   ]
  },
  {
   "cell_type": "markdown",
   "metadata": {},
   "source": [
    "### Remove Rare Words"
   ]
  },
  {
   "cell_type": "code",
   "execution_count": 50,
   "metadata": {},
   "outputs": [
    {
     "data": {
      "text/plain": [
       "hoaxed          1\n",
       "cecchitiello    1\n",
       "knoist          1\n",
       "heremadam       1\n",
       "credentials     1\n",
       "sternlyi        1\n",
       "nightmartin     1\n",
       "legendby        1\n",
       "aidfor          1\n",
       "herindeed       1\n",
       "dtype: int64"
      ]
     },
     "execution_count": 50,
     "metadata": {},
     "output_type": "execute_result"
    }
   ],
   "source": [
    "freq = pd.Series(' '.join(folk['Story']).split()).value_counts()[-10:]\n",
    "freq"
   ]
  },
  {
   "cell_type": "code",
   "execution_count": 51,
   "metadata": {},
   "outputs": [
    {
     "data": {
      "text/plain": [
       "0    cat made acquaintance mouse much great love fr...\n",
       "1    goat seven ones fond ever mother children day ...\n",
       "2    upon time ill thought likely deathbed send tru...\n",
       "3    peasant driven cow fair sold seven thalers way...\n",
       "4    wonderful musician quite alone forest thought ...\n",
       "Name: Story, dtype: object"
      ]
     },
     "execution_count": 51,
     "metadata": {},
     "output_type": "execute_result"
    }
   ],
   "source": [
    "freq = list(freq.index)\n",
    "folk['Story'] = folk['Story'].apply(lambda x: \" \".join(x for x in x.split() if x not in freq))\n",
    "folk['Story'].head()"
   ]
  },
  {
   "cell_type": "markdown",
   "metadata": {},
   "source": [
    "### Tokenization"
   ]
  },
  {
   "cell_type": "code",
   "execution_count": 52,
   "metadata": {},
   "outputs": [
    {
     "data": {
      "text/plain": [
       "0    cat made acquaintance mouse much great love fr...\n",
       "1    goat seven ones fond ever mother children day ...\n",
       "2    upon time ill thought likely deathbed send tru...\n",
       "3    peasant driven cow fair sold seven thaler way ...\n",
       "4    wonderful musician quite alone forest thought ...\n",
       "Name: Story, dtype: object"
      ]
     },
     "execution_count": 52,
     "metadata": {},
     "output_type": "execute_result"
    }
   ],
   "source": [
    "from textblob import TextBlob\n",
    "folk['Story'][:5].apply(lambda x: str(TextBlob(x).correct()))"
   ]
  },
  {
   "cell_type": "code",
   "execution_count": 53,
   "metadata": {
    "scrolled": false
   },
   "outputs": [
    {
     "data": {
      "text/plain": [
       "WordList(['goat', 'seven', 'ones', 'fond', 'ever', 'mother', 'children', 'day', 'go', 'wood', 'fetch', 'food', 'called', 'round', 'dear', 'children', 'going', 'wood', 'gone', 'guard', 'wolf', 'get', 'inside', 'eat', 'skin', 'bones', 'wretch', 'often', 'disguises', 'may', 'always', 'known', 'hoarse', 'voice', 'black', 'paws', 'dear', 'mother', 'answered', 'kids', 'need', 'afraid', 'take', 'good', 'care', 'mother', 'bleated', 'goodbye', 'way', 'easy', 'mindit', 'long', 'knocking', 'housedoor', 'crying', 'open', 'door', 'dear', 'children', 'mother', 'come', 'back', 'brought', 'something', 'kids', 'knew', 'wolf', 'hoarse', 'voice', 'open', 'door', 'cried', 'mother', 'delicate', 'sweet', 'voice', 'voice', 'hoarse', 'must', 'wolf', 'wolf', 'shop', 'bought', 'big', 'lump', 'chalk', 'ate', 'make', 'voice', 'soft', 'back', 'knocked', 'housedoor', 'cried', 'open', 'door', 'dear', 'children', 'mother', 'brought', 'something', 'wolf', 'put', 'black', 'paws', 'window', 'kids', 'seeing', 'cried', 'open', 'door', 'mother', 'black', 'paws', 'like', 'must', 'wolf', 'wolf', 'ran', 'baker', 'baker', 'hurt', 'foot', 'pray', 'spread', 'dough', 'place', 'baker', 'plastered', 'feet', 'ran', 'miller', 'miller', 'strew', 'white', 'meal', 'paws', 'miller', 'refused', 'thinking', 'wolf', 'must', 'meaning', 'harm', 'dont', 'cried', 'wolf', 'ill', 'eat', 'miller', 'afraid', 'told', 'shows', 'men', 'areand', 'rogue', 'third', 'time', 'door', 'knocked', 'open', 'children', 'cried', 'dear', 'mother', 'come', 'home', 'brought', 'something', 'wood', 'first', 'show', 'us', 'paws', 'kids', 'may', 'know', 'really', 'mother', 'put', 'paws', 'window', 'saw', 'white', 'seemed', 'right', 'opened', 'door', 'inside', 'saw', 'wolf', 'terrified', 'tried', 'hide', 'ran', 'table', 'second', 'got', 'bed', 'third', 'oven', 'fourth', 'kitchen', 'fifth', 'cupboard', 'sixth', 'sink', 'seventh', 'clockcase', 'wolf', 'found', 'gave', 'short', 'shrift', 'swallowed', 'youngest', 'hid', 'clockcase', 'wolf', 'got', 'wanted', 'strolled', 'forth', 'green', 'meadows', 'laying', 'tree', 'fell', 'asleepnot', 'long', 'mother', 'goat', 'back', 'wood', 'oh', 'sight', 'met', 'eyes', 'door', 'standing', 'wide', 'open', 'table', 'chairs', 'stools', 'thrown', 'dishes', 'broken', 'quilt', 'pillows', 'torn', 'bed', 'sought', 'children', 'nowhere', 'found', 'called', 'name', 'nobody', 'answered', 'name', 'youngest', 'mother', 'voice', 'cried', 'clock', 'case', 'helped', 'heard', 'wolf', 'come', 'eaten', 'rest', 'may', 'think', 'cried', 'loss', 'dear', 'childrenat', 'last', 'grief', 'wandered', 'doors', 'youngest', 'kid', 'meadow', 'saw', 'wolf', 'lying', 'tree', 'snoring', 'branches', 'shook', 'mother', 'goat', 'looked', 'carefully', 'sides', 'noticed', 'something', 'inside', 'body', 'moving', 'struggling', 'dear', 'thought', 'poor', 'children', 'devoured', 'evening', 'meal', 'still', 'alive', 'sent', 'kid', 'back', 'house', 'pair', 'shears', 'needle', 'thread', 'cut', 'wolfs', 'body', 'open', 'sooner', 'made', 'snip', 'head', 'kids', 'another', 'snip', 'six', 'kids', 'jumped', 'alive', 'well', 'greediness', 'rogue', 'swallowed', 'whole', 'delightful', 'comforted', 'dear', 'mother', 'hopped', 'like', 'tailors', 'wedding', 'fetch', 'good', 'hard', 'stones', 'mother', 'fill', 'body', 'lies', 'asleep', 'fetched', 'haste', 'put', 'inside', 'mother', 'sewed', 'quickly', 'none', 'wiserwhen', 'wolf', 'last', 'awoke', 'got', 'stones', 'inside', 'made', 'feel', 'thirsty', 'going', 'brook', 'drink', 'struck', 'rattled', 'another', 'cried', 'outwhat', 'feel', 'inside', 'meknocking', 'hard', 'boneshow', 'thing', 'betide', 'methey', 'kids', 'theyre', 'stones', 'brook', 'stooped', 'drink', 'heavy', 'stones', 'weighed', 'fell', 'water', 'drowned', 'seven', 'kids', 'saw', 'running', 'wolf', 'dead', 'wolf', 'dead', 'cried', 'taking', 'hands', 'danced', 'mother', 'place'])"
      ]
     },
     "execution_count": 53,
     "metadata": {},
     "output_type": "execute_result"
    }
   ],
   "source": [
    "TextBlob(folk['Story'][1]).words"
   ]
  },
  {
   "cell_type": "markdown",
   "metadata": {},
   "source": [
    "## Stemming"
   ]
  },
  {
   "cell_type": "code",
   "execution_count": 54,
   "metadata": {},
   "outputs": [
    {
     "data": {
      "text/plain": [
       "0    cat made acquaint mous much great love friends...\n",
       "1    goat seven one fond ever mother children day g...\n",
       "2    upon time ill thought like deathb send trusti ...\n",
       "3    peasant driven cow fair sold seven thaler way ...\n",
       "4    wonder musician quit alon forest thought manne...\n",
       "Name: Story, dtype: object"
      ]
     },
     "execution_count": 54,
     "metadata": {},
     "output_type": "execute_result"
    }
   ],
   "source": [
    "from nltk.stem import PorterStemmer\n",
    "st = PorterStemmer()\n",
    "folk['Story'][:5].apply(lambda x: \" \".join([st.stem(word) for word in x.split()]))"
   ]
  },
  {
   "cell_type": "markdown",
   "metadata": {},
   "source": [
    "## Lemmatization"
   ]
  },
  {
   "cell_type": "code",
   "execution_count": 55,
   "metadata": {},
   "outputs": [
    {
     "data": {
      "text/plain": [
       "0    cat made acquaintance mouse much great love fr...\n",
       "1    goat seven one fond ever mother child day go w...\n",
       "2    upon time ill thought likely deathbed send tru...\n",
       "3    peasant driven cow fair sold seven thalers way...\n",
       "4    wonderful musician quite alone forest thought ...\n",
       "Name: Story, dtype: object"
      ]
     },
     "execution_count": 55,
     "metadata": {},
     "output_type": "execute_result"
    }
   ],
   "source": [
    "from textblob import Word\n",
    "folk['Story'] = folk['Story'].apply(lambda x: \" \".join([Word(word).lemmatize() for word in x.split()]))\n",
    "folk['Story'].head()"
   ]
  },
  {
   "cell_type": "markdown",
   "metadata": {},
   "source": [
    "# Advanced Text Processing"
   ]
  },
  {
   "cell_type": "markdown",
   "metadata": {},
   "source": [
    "## N-grams"
   ]
  },
  {
   "cell_type": "code",
   "execution_count": 56,
   "metadata": {},
   "outputs": [
    {
     "data": {
      "text/plain": [
       "[WordList(['cat', 'made']),\n",
       " WordList(['made', 'acquaintance']),\n",
       " WordList(['acquaintance', 'mouse']),\n",
       " WordList(['mouse', 'much']),\n",
       " WordList(['much', 'great']),\n",
       " WordList(['great', 'love']),\n",
       " WordList(['love', 'friendship']),\n",
       " WordList(['friendship', 'felt']),\n",
       " WordList(['felt', 'last']),\n",
       " WordList(['last', 'mouse']),\n",
       " WordList(['mouse', 'agreed']),\n",
       " WordList(['agreed', 'live']),\n",
       " WordList(['live', 'keep']),\n",
       " WordList(['keep', 'house']),\n",
       " WordList(['house', 'together']),\n",
       " WordList(['together', 'must']),\n",
       " WordList(['must', 'make']),\n",
       " WordList(['make', 'preparation']),\n",
       " WordList(['preparation', 'winter']),\n",
       " WordList(['winter', 'else']),\n",
       " WordList(['else', 'shall']),\n",
       " WordList(['shall', 'suffer']),\n",
       " WordList(['suffer', 'hunger']),\n",
       " WordList(['hunger', 'cat']),\n",
       " WordList(['cat', 'mouse']),\n",
       " WordList(['mouse', 'can']),\n",
       " WordList(['can', 'not']),\n",
       " WordList(['not', 'venture']),\n",
       " WordList(['venture', 'everywhere']),\n",
       " WordList(['everywhere', 'end']),\n",
       " WordList(['end', 'caught']),\n",
       " WordList(['caught', 'trap']),\n",
       " WordList(['trap', 'good']),\n",
       " WordList(['good', 'advice']),\n",
       " WordList(['advice', 'followed']),\n",
       " WordList(['followed', 'bought']),\n",
       " WordList(['bought', 'pot']),\n",
       " WordList(['pot', 'fat']),\n",
       " WordList(['fat', 'know']),\n",
       " WordList(['know', 'store']),\n",
       " WordList(['store', 'finally']),\n",
       " WordList(['finally', 'much']),\n",
       " WordList(['much', 'consideration']),\n",
       " WordList(['consideration', 'cat']),\n",
       " WordList(['cat', 'know']),\n",
       " WordList(['know', 'place']),\n",
       " WordList(['place', 'better']),\n",
       " WordList(['better', 'stored']),\n",
       " WordList(['stored', 'church']),\n",
       " WordList(['church', 'dare']),\n",
       " WordList(['dare', 'take']),\n",
       " WordList(['take', 'anything']),\n",
       " WordList(['anything', 'away']),\n",
       " WordList(['away', 'put']),\n",
       " WordList(['put', 'beneath']),\n",
       " WordList(['beneath', 'altar']),\n",
       " WordList(['altar', 'touch']),\n",
       " WordList(['touch', 'need']),\n",
       " WordList(['need', 'pot']),\n",
       " WordList(['pot', 'stored']),\n",
       " WordList(['stored', 'safely']),\n",
       " WordList(['safely', 'away']),\n",
       " WordList(['away', 'long']),\n",
       " WordList(['long', 'cat']),\n",
       " WordList(['cat', 'took']),\n",
       " WordList(['took', 'great']),\n",
       " WordList(['great', 'longing']),\n",
       " WordList(['longing', 'mouse']),\n",
       " WordList(['mouse', 'wanted']),\n",
       " WordList(['wanted', 'tell']),\n",
       " WordList(['tell', 'mouse']),\n",
       " WordList(['mouse', 'cousin']),\n",
       " WordList(['cousin', 'brought']),\n",
       " WordList(['brought', 'son']),\n",
       " WordList(['son', 'world']),\n",
       " WordList(['world', 'asked']),\n",
       " WordList(['asked', 'godfather']),\n",
       " WordList(['godfather', 'white']),\n",
       " WordList(['white', 'brown']),\n",
       " WordList(['brown', 'spot']),\n",
       " WordList(['spot', 'hold']),\n",
       " WordList(['hold', 'baptismal']),\n",
       " WordList(['baptismal', 'font']),\n",
       " WordList(['font', 'let']),\n",
       " WordList(['let', 'go']),\n",
       " WordList(['go', 'today']),\n",
       " WordList(['today', 'look']),\n",
       " WordList(['look', 'house']),\n",
       " WordList(['house', 'yes']),\n",
       " WordList(['yes', 'yes']),\n",
       " WordList(['yes', 'answered']),\n",
       " WordList(['answered', 'mouse']),\n",
       " WordList(['mouse', 'mean']),\n",
       " WordList(['mean', 'go']),\n",
       " WordList(['go', 'get']),\n",
       " WordList(['get', 'anything']),\n",
       " WordList(['anything', 'good']),\n",
       " WordList(['good', 'eat']),\n",
       " WordList(['eat', 'think']),\n",
       " WordList(['think', 'like']),\n",
       " WordList(['like', 'drink']),\n",
       " WordList(['drink', 'drop']),\n",
       " WordList(['drop', 'sweet']),\n",
       " WordList(['sweet', 'red']),\n",
       " WordList(['red', 'christening']),\n",
       " WordList(['christening', 'wine']),\n",
       " WordList(['wine', 'however']),\n",
       " WordList(['however', 'untrue']),\n",
       " WordList(['untrue', 'cat']),\n",
       " WordList(['cat', 'cousin']),\n",
       " WordList(['cousin', 'asked']),\n",
       " WordList(['asked', 'godfather']),\n",
       " WordList(['godfather', 'straight']),\n",
       " WordList(['straight', 'church']),\n",
       " WordList(['church', 'crept']),\n",
       " WordList(['crept', 'pot']),\n",
       " WordList(['pot', 'fat']),\n",
       " WordList(['fat', 'began']),\n",
       " WordList(['began', 'lick']),\n",
       " WordList(['lick', 'licked']),\n",
       " WordList(['licked', 'top']),\n",
       " WordList(['top', 'fat']),\n",
       " WordList(['fat', 'stroll']),\n",
       " WordList(['stroll', 'roof']),\n",
       " WordList(['roof', 'town']),\n",
       " WordList(['town', 'looked']),\n",
       " WordList(['looked', 'opportunity']),\n",
       " WordList(['opportunity', 'stretched']),\n",
       " WordList(['stretched', 'sun']),\n",
       " WordList(['sun', 'licking']),\n",
       " WordList(['licking', 'whisker']),\n",
       " WordList(['whisker', 'whenever']),\n",
       " WordList(['whenever', 'thought']),\n",
       " WordList(['thought', 'pot']),\n",
       " WordList(['pot', 'fat']),\n",
       " WordList(['fat', 'return']),\n",
       " WordList(['return', 'home']),\n",
       " WordList(['home', 'evening']),\n",
       " WordList(['evening', 'well']),\n",
       " WordList(['well', 'mouse']),\n",
       " WordList(['mouse', 'must']),\n",
       " WordList(['must', 'happy']),\n",
       " WordList(['happy', 'day']),\n",
       " WordList(['day', 'everything']),\n",
       " WordList(['everything', 'well']),\n",
       " WordList(['well', 'answered']),\n",
       " WordList(['answered', 'cat']),\n",
       " WordList(['cat', 'name']),\n",
       " WordList(['name', 'give']),\n",
       " WordList(['give', 'child']),\n",
       " WordList(['child', 'asked']),\n",
       " WordList(['asked', 'mouse']),\n",
       " WordList(['mouse', 'topoff']),\n",
       " WordList(['topoff', 'cat']),\n",
       " WordList(['cat', 'quite']),\n",
       " WordList(['quite', 'coolly']),\n",
       " WordList(['coolly', 'topoff']),\n",
       " WordList(['topoff', 'cried']),\n",
       " WordList(['cried', 'mouse']),\n",
       " WordList(['mouse', 'odd']),\n",
       " WordList(['odd', 'uncommon']),\n",
       " WordList(['uncommon', 'name']),\n",
       " WordList(['name', 'usual']),\n",
       " WordList(['usual', 'family']),\n",
       " WordList(['family', 'matter']),\n",
       " WordList(['matter', 'cat']),\n",
       " WordList(['cat', 'worse']),\n",
       " WordList(['worse', 'crumbthief']),\n",
       " WordList(['crumbthief', 'godchild']),\n",
       " WordList(['godchild', 'calledbefore']),\n",
       " WordList(['calledbefore', 'long']),\n",
       " WordList(['long', 'cat']),\n",
       " WordList(['cat', 'seized']),\n",
       " WordList(['seized', 'another']),\n",
       " WordList(['another', 'fit']),\n",
       " WordList(['fit', 'longing']),\n",
       " WordList(['longing', 'mouse']),\n",
       " WordList(['mouse', 'must']),\n",
       " WordList(['must', 'favor']),\n",
       " WordList(['favor', 'manage']),\n",
       " WordList(['manage', 'house']),\n",
       " WordList(['house', 'alone']),\n",
       " WordList(['alone', 'day']),\n",
       " WordList(['day', 'asked']),\n",
       " WordList(['asked', 'godfather']),\n",
       " WordList(['godfather', 'since']),\n",
       " WordList(['since', 'child']),\n",
       " WordList(['child', 'white']),\n",
       " WordList(['white', 'ring']),\n",
       " WordList(['ring', 'around']),\n",
       " WordList(['around', 'neck']),\n",
       " WordList(['neck', 'can']),\n",
       " WordList(['can', 'not']),\n",
       " WordList(['not', 'refuse']),\n",
       " WordList(['refuse', 'good']),\n",
       " WordList(['good', 'mouse']),\n",
       " WordList(['mouse', 'consented']),\n",
       " WordList(['consented', 'however']),\n",
       " WordList(['however', 'cat']),\n",
       " WordList(['cat', 'crept']),\n",
       " WordList(['crept', 'behind']),\n",
       " WordList(['behind', 'town']),\n",
       " WordList(['town', 'wall']),\n",
       " WordList(['wall', 'church']),\n",
       " WordList(['church', 'devoured']),\n",
       " WordList(['devoured', 'half']),\n",
       " WordList(['half', 'pot']),\n",
       " WordList(['pot', 'fat']),\n",
       " WordList(['fat', 'nothing']),\n",
       " WordList(['nothing', 'taste']),\n",
       " WordList(['taste', 'good']),\n",
       " WordList(['good', 'eats']),\n",
       " WordList(['eats', 'oneself']),\n",
       " WordList(['oneself', 'quite']),\n",
       " WordList(['quite', 'satisfied']),\n",
       " WordList(['satisfied', 'day']),\n",
       " WordList(['day', 'work']),\n",
       " WordList(['work', 'arrived']),\n",
       " WordList(['arrived', 'home']),\n",
       " WordList(['home', 'mouse']),\n",
       " WordList(['mouse', 'asked']),\n",
       " WordList(['asked', 'name']),\n",
       " WordList(['name', 'child']),\n",
       " WordList(['child', 'christened']),\n",
       " WordList(['christened', 'halfgone']),\n",
       " WordList(['halfgone', 'answered']),\n",
       " WordList(['answered', 'cat']),\n",
       " WordList(['cat', 'halfgone']),\n",
       " WordList(['halfgone', 'saying']),\n",
       " WordList(['saying', 'never']),\n",
       " WordList(['never', 'heard']),\n",
       " WordList(['heard', 'name']),\n",
       " WordList(['name', 'life']),\n",
       " WordList(['life', 'ill']),\n",
       " WordList(['ill', 'wager']),\n",
       " WordList(['wager', 'almanacthe']),\n",
       " WordList(['almanacthe', 'cat']),\n",
       " WordList(['cat', 'mouth']),\n",
       " WordList(['mouth', 'soon']),\n",
       " WordList(['soon', 'began']),\n",
       " WordList(['began', 'water']),\n",
       " WordList(['water', 'delicious']),\n",
       " WordList(['delicious', 'good']),\n",
       " WordList(['good', 'good']),\n",
       " WordList(['good', 'thing']),\n",
       " WordList(['thing', 'come']),\n",
       " WordList(['come', 'three']),\n",
       " WordList(['three', 'mouse']),\n",
       " WordList(['mouse', 'asked']),\n",
       " WordList(['asked', 'godfather']),\n",
       " WordList(['godfather', 'child']),\n",
       " WordList(['child', 'totally']),\n",
       " WordList(['totally', 'black']),\n",
       " WordList(['black', 'white']),\n",
       " WordList(['white', 'paw']),\n",
       " WordList(['paw', 'otherwise']),\n",
       " WordList(['otherwise', 'single']),\n",
       " WordList(['single', 'white']),\n",
       " WordList(['white', 'hair']),\n",
       " WordList(['hair', 'whole']),\n",
       " WordList(['whole', 'body']),\n",
       " WordList(['body', 'happens']),\n",
       " WordList(['happens', 'every']),\n",
       " WordList(['every', 'year']),\n",
       " WordList(['year', 'let']),\n",
       " WordList(['let', 'go']),\n",
       " WordList(['go', 'wont']),\n",
       " WordList(['wont', 'topoff']),\n",
       " WordList(['topoff', 'halfgone']),\n",
       " WordList(['halfgone', 'answered']),\n",
       " WordList(['answered', 'mouse']),\n",
       " WordList(['mouse', 'odd']),\n",
       " WordList(['odd', 'name']),\n",
       " WordList(['name', 'make']),\n",
       " WordList(['make', 'stop']),\n",
       " WordList(['stop', 'think']),\n",
       " WordList(['think', 'sit']),\n",
       " WordList(['sit', 'home']),\n",
       " WordList(['home', 'cat']),\n",
       " WordList(['cat', 'dark']),\n",
       " WordList(['dark', 'gray']),\n",
       " WordList(['gray', 'fur']),\n",
       " WordList(['fur', 'coat']),\n",
       " WordList(['coat', 'long']),\n",
       " WordList(['long', 'braid']),\n",
       " WordList(['braid', 'hair']),\n",
       " WordList(['hair', 'capturing']),\n",
       " WordList(['capturing', 'fantasy']),\n",
       " WordList(['fantasy', 'go']),\n",
       " WordList(['go', 'daytime']),\n",
       " WordList(['daytime', 'cat']),\n",
       " WordList(['cat', 'absence']),\n",
       " WordList(['absence', 'mouse']),\n",
       " WordList(['mouse', 'cleaned']),\n",
       " WordList(['cleaned', 'house']),\n",
       " WordList(['house', 'put']),\n",
       " WordList(['put', 'order']),\n",
       " WordList(['order', 'greedy']),\n",
       " WordList(['greedy', 'cat']),\n",
       " WordList(['cat', 'devoured']),\n",
       " WordList(['devoured', 'rest']),\n",
       " WordList(['rest', 'fat']),\n",
       " WordList(['fat', 'peace']),\n",
       " WordList(['peace', 'everything']),\n",
       " WordList(['everything', 'eaten']),\n",
       " WordList(['eaten', 'well']),\n",
       " WordList(['well', 'filled']),\n",
       " WordList(['filled', 'fat']),\n",
       " WordList(['fat', 'return']),\n",
       " WordList(['return', 'home']),\n",
       " WordList(['home', 'nighttime']),\n",
       " WordList(['nighttime', 'mouse']),\n",
       " WordList(['mouse', 'immediately']),\n",
       " WordList(['immediately', 'asked']),\n",
       " WordList(['asked', 'name']),\n",
       " WordList(['name', 'given']),\n",
       " WordList(['given', 'third']),\n",
       " WordList(['third', 'child']),\n",
       " WordList(['child', 'like']),\n",
       " WordList(['like', 'either']),\n",
       " WordList(['either', 'cat']),\n",
       " WordList(['cat', 'name']),\n",
       " WordList(['name', 'allgone']),\n",
       " WordList(['allgone', 'allgone']),\n",
       " WordList(['allgone', 'cried']),\n",
       " WordList(['cried', 'mouse']),\n",
       " WordList(['mouse', 'worrisome']),\n",
       " WordList(['worrisome', 'name']),\n",
       " WordList(['name', 'never']),\n",
       " WordList(['never', 'seen']),\n",
       " WordList(['seen', 'print']),\n",
       " WordList(['print', 'allgone']),\n",
       " WordList(['allgone', 'mean']),\n",
       " WordList(['mean', 'shook']),\n",
       " WordList(['shook', 'head']),\n",
       " WordList(['head', 'curled']),\n",
       " WordList(['curled', 'lay']),\n",
       " WordList(['lay', 'sleepfrom']),\n",
       " WordList(['sleepfrom', 'time']),\n",
       " WordList(['time', 'forth']),\n",
       " WordList(['forth', 'invited']),\n",
       " WordList(['invited', 'cat']),\n",
       " WordList(['cat', 'godfather']),\n",
       " WordList(['godfather', 'winter']),\n",
       " WordList(['winter', 'come']),\n",
       " WordList(['come', 'longer']),\n",
       " WordList(['longer', 'anything']),\n",
       " WordList(['anything', 'found']),\n",
       " WordList(['found', 'outside']),\n",
       " WordList(['outside', 'mouse']),\n",
       " WordList(['mouse', 'thought']),\n",
       " WordList(['thought', 'stored']),\n",
       " WordList(['stored', 'food']),\n",
       " WordList(['food', 'come']),\n",
       " WordList(['come', 'cat']),\n",
       " WordList(['cat', 'go']),\n",
       " WordList(['go', 'pot']),\n",
       " WordList(['pot', 'fat']),\n",
       " WordList(['fat', 'stored']),\n",
       " WordList(['stored', 'taste']),\n",
       " WordList(['taste', 'good']),\n",
       " WordList(['good', 'yes']),\n",
       " WordList(['yes', 'answered']),\n",
       " WordList(['answered', 'cat']),\n",
       " WordList(['cat', 'enjoy']),\n",
       " WordList(['enjoy', 'much']),\n",
       " WordList(['much', 'enjoy']),\n",
       " WordList(['enjoy', 'sticking']),\n",
       " WordList(['sticking', 'dainty']),\n",
       " WordList(['dainty', 'tongue']),\n",
       " WordList(['tongue', 'window']),\n",
       " WordList(['window', 'set']),\n",
       " WordList(['set', 'way']),\n",
       " WordList(['way', 'arrived']),\n",
       " WordList(['arrived', 'pot']),\n",
       " WordList(['pot', 'fat']),\n",
       " WordList(['fat', 'sure']),\n",
       " WordList(['sure', 'still']),\n",
       " WordList(['still', 'place']),\n",
       " WordList(['place', 'empty']),\n",
       " WordList(['empty', 'ala']),\n",
       " WordList(['ala', 'mouse']),\n",
       " WordList(['mouse', 'see']),\n",
       " WordList(['see', 'happened']),\n",
       " WordList(['happened', 'come']),\n",
       " WordList(['come', 'light']),\n",
       " WordList(['light', 'true']),\n",
       " WordList(['true', 'friend']),\n",
       " WordList(['friend', 'ate']),\n",
       " WordList(['ate', 'everything']),\n",
       " WordList(['everything', 'serving']),\n",
       " WordList(['serving', 'godfather']),\n",
       " WordList(['godfather', 'first']),\n",
       " WordList(['first', 'top']),\n",
       " WordList(['top', 'half']),\n",
       " WordList(['half', 'done']),\n",
       " WordList(['done', 'quiet']),\n",
       " WordList(['quiet', 'cried']),\n",
       " WordList(['cried', 'cat']),\n",
       " WordList(['cat', 'word']),\n",
       " WordList(['word', 'eat']),\n",
       " WordList(['eat', 'tooall']),\n",
       " WordList(['tooall', 'gone']),\n",
       " WordList(['gone', 'already']),\n",
       " WordList(['already', 'poor']),\n",
       " WordList(['poor', 'mouse']),\n",
       " WordList(['mouse', 'lip']),\n",
       " WordList(['lip', 'scarcely']),\n",
       " WordList(['scarcely', 'spoken']),\n",
       " WordList(['spoken', 'cat']),\n",
       " WordList(['cat', 'sprang']),\n",
       " WordList(['sprang', 'seized']),\n",
       " WordList(['seized', 'swallowed']),\n",
       " WordList(['swallowed', 'see']),\n",
       " WordList(['see', 'way']),\n",
       " WordList(['way', 'world'])]"
      ]
     },
     "execution_count": 56,
     "metadata": {},
     "output_type": "execute_result"
    }
   ],
   "source": [
    "TextBlob(folk['Story'][0]).ngrams(2)"
   ]
  },
  {
   "cell_type": "markdown",
   "metadata": {},
   "source": [
    "## Term Frequency"
   ]
  },
  {
   "cell_type": "code",
   "execution_count": 57,
   "metadata": {},
   "outputs": [
    {
     "data": {
      "text/html": [
       "<div>\n",
       "<style scoped>\n",
       "    .dataframe tbody tr th:only-of-type {\n",
       "        vertical-align: middle;\n",
       "    }\n",
       "\n",
       "    .dataframe tbody tr th {\n",
       "        vertical-align: top;\n",
       "    }\n",
       "\n",
       "    .dataframe thead th {\n",
       "        text-align: right;\n",
       "    }\n",
       "</style>\n",
       "<table border=\"1\" class=\"dataframe\">\n",
       "  <thead>\n",
       "    <tr style=\"text-align: right;\">\n",
       "      <th></th>\n",
       "      <th>words</th>\n",
       "      <th>tf</th>\n",
       "    </tr>\n",
       "  </thead>\n",
       "  <tbody>\n",
       "    <tr>\n",
       "      <th>0</th>\n",
       "      <td>wolf</td>\n",
       "      <td>18</td>\n",
       "    </tr>\n",
       "    <tr>\n",
       "      <th>1</th>\n",
       "      <td>mother</td>\n",
       "      <td>16</td>\n",
       "    </tr>\n",
       "    <tr>\n",
       "      <th>2</th>\n",
       "      <td>kid</td>\n",
       "      <td>10</td>\n",
       "    </tr>\n",
       "    <tr>\n",
       "      <th>3</th>\n",
       "      <td>cried</td>\n",
       "      <td>9</td>\n",
       "    </tr>\n",
       "    <tr>\n",
       "      <th>4</th>\n",
       "      <td>door</td>\n",
       "      <td>8</td>\n",
       "    </tr>\n",
       "    <tr>\n",
       "      <th>5</th>\n",
       "      <td>dear</td>\n",
       "      <td>8</td>\n",
       "    </tr>\n",
       "    <tr>\n",
       "      <th>6</th>\n",
       "      <td>child</td>\n",
       "      <td>7</td>\n",
       "    </tr>\n",
       "    <tr>\n",
       "      <th>7</th>\n",
       "      <td>open</td>\n",
       "      <td>7</td>\n",
       "    </tr>\n",
       "    <tr>\n",
       "      <th>8</th>\n",
       "      <td>voice</td>\n",
       "      <td>6</td>\n",
       "    </tr>\n",
       "    <tr>\n",
       "      <th>9</th>\n",
       "      <td>inside</td>\n",
       "      <td>6</td>\n",
       "    </tr>\n",
       "    <tr>\n",
       "      <th>10</th>\n",
       "      <td>paw</td>\n",
       "      <td>6</td>\n",
       "    </tr>\n",
       "    <tr>\n",
       "      <th>11</th>\n",
       "      <td>wood</td>\n",
       "      <td>4</td>\n",
       "    </tr>\n",
       "    <tr>\n",
       "      <th>12</th>\n",
       "      <td>something</td>\n",
       "      <td>4</td>\n",
       "    </tr>\n",
       "    <tr>\n",
       "      <th>13</th>\n",
       "      <td>miller</td>\n",
       "      <td>4</td>\n",
       "    </tr>\n",
       "    <tr>\n",
       "      <th>14</th>\n",
       "      <td>stone</td>\n",
       "      <td>4</td>\n",
       "    </tr>\n",
       "    <tr>\n",
       "      <th>15</th>\n",
       "      <td>saw</td>\n",
       "      <td>4</td>\n",
       "    </tr>\n",
       "    <tr>\n",
       "      <th>16</th>\n",
       "      <td>back</td>\n",
       "      <td>4</td>\n",
       "    </tr>\n",
       "    <tr>\n",
       "      <th>17</th>\n",
       "      <td>got</td>\n",
       "      <td>3</td>\n",
       "    </tr>\n",
       "    <tr>\n",
       "      <th>18</th>\n",
       "      <td>brought</td>\n",
       "      <td>3</td>\n",
       "    </tr>\n",
       "    <tr>\n",
       "      <th>19</th>\n",
       "      <td>black</td>\n",
       "      <td>3</td>\n",
       "    </tr>\n",
       "    <tr>\n",
       "      <th>20</th>\n",
       "      <td>body</td>\n",
       "      <td>3</td>\n",
       "    </tr>\n",
       "    <tr>\n",
       "      <th>21</th>\n",
       "      <td>goat</td>\n",
       "      <td>3</td>\n",
       "    </tr>\n",
       "    <tr>\n",
       "      <th>22</th>\n",
       "      <td>must</td>\n",
       "      <td>3</td>\n",
       "    </tr>\n",
       "    <tr>\n",
       "      <th>23</th>\n",
       "      <td>baker</td>\n",
       "      <td>3</td>\n",
       "    </tr>\n",
       "    <tr>\n",
       "      <th>24</th>\n",
       "      <td>youngest</td>\n",
       "      <td>3</td>\n",
       "    </tr>\n",
       "    <tr>\n",
       "      <th>25</th>\n",
       "      <td>may</td>\n",
       "      <td>3</td>\n",
       "    </tr>\n",
       "    <tr>\n",
       "      <th>26</th>\n",
       "      <td>come</td>\n",
       "      <td>3</td>\n",
       "    </tr>\n",
       "    <tr>\n",
       "      <th>27</th>\n",
       "      <td>ran</td>\n",
       "      <td>3</td>\n",
       "    </tr>\n",
       "    <tr>\n",
       "      <th>28</th>\n",
       "      <td>put</td>\n",
       "      <td>3</td>\n",
       "    </tr>\n",
       "    <tr>\n",
       "      <th>29</th>\n",
       "      <td>hoarse</td>\n",
       "      <td>3</td>\n",
       "    </tr>\n",
       "    <tr>\n",
       "      <th>...</th>\n",
       "      <td>...</td>\n",
       "      <td>...</td>\n",
       "    </tr>\n",
       "    <tr>\n",
       "      <th>215</th>\n",
       "      <td>whole</td>\n",
       "      <td>1</td>\n",
       "    </tr>\n",
       "    <tr>\n",
       "      <th>216</th>\n",
       "      <td>round</td>\n",
       "      <td>1</td>\n",
       "    </tr>\n",
       "    <tr>\n",
       "      <th>217</th>\n",
       "      <td>kitchen</td>\n",
       "      <td>1</td>\n",
       "    </tr>\n",
       "    <tr>\n",
       "      <th>218</th>\n",
       "      <td>thread</td>\n",
       "      <td>1</td>\n",
       "    </tr>\n",
       "    <tr>\n",
       "      <th>219</th>\n",
       "      <td>standing</td>\n",
       "      <td>1</td>\n",
       "    </tr>\n",
       "    <tr>\n",
       "      <th>220</th>\n",
       "      <td>sight</td>\n",
       "      <td>1</td>\n",
       "    </tr>\n",
       "    <tr>\n",
       "      <th>221</th>\n",
       "      <td>sent</td>\n",
       "      <td>1</td>\n",
       "    </tr>\n",
       "    <tr>\n",
       "      <th>222</th>\n",
       "      <td>bleated</td>\n",
       "      <td>1</td>\n",
       "    </tr>\n",
       "    <tr>\n",
       "      <th>223</th>\n",
       "      <td>dont</td>\n",
       "      <td>1</td>\n",
       "    </tr>\n",
       "    <tr>\n",
       "      <th>224</th>\n",
       "      <td>sought</td>\n",
       "      <td>1</td>\n",
       "    </tr>\n",
       "    <tr>\n",
       "      <th>225</th>\n",
       "      <td>head</td>\n",
       "      <td>1</td>\n",
       "    </tr>\n",
       "    <tr>\n",
       "      <th>226</th>\n",
       "      <td>day</td>\n",
       "      <td>1</td>\n",
       "    </tr>\n",
       "    <tr>\n",
       "      <th>227</th>\n",
       "      <td>grief</td>\n",
       "      <td>1</td>\n",
       "    </tr>\n",
       "    <tr>\n",
       "      <th>228</th>\n",
       "      <td>tried</td>\n",
       "      <td>1</td>\n",
       "    </tr>\n",
       "    <tr>\n",
       "      <th>229</th>\n",
       "      <td>first</td>\n",
       "      <td>1</td>\n",
       "    </tr>\n",
       "    <tr>\n",
       "      <th>230</th>\n",
       "      <td>lying</td>\n",
       "      <td>1</td>\n",
       "    </tr>\n",
       "    <tr>\n",
       "      <th>231</th>\n",
       "      <td>soft</td>\n",
       "      <td>1</td>\n",
       "    </tr>\n",
       "    <tr>\n",
       "      <th>232</th>\n",
       "      <td>bought</td>\n",
       "      <td>1</td>\n",
       "    </tr>\n",
       "    <tr>\n",
       "      <th>233</th>\n",
       "      <td>clock</td>\n",
       "      <td>1</td>\n",
       "    </tr>\n",
       "    <tr>\n",
       "      <th>234</th>\n",
       "      <td>struck</td>\n",
       "      <td>1</td>\n",
       "    </tr>\n",
       "    <tr>\n",
       "      <th>235</th>\n",
       "      <td>struggling</td>\n",
       "      <td>1</td>\n",
       "    </tr>\n",
       "    <tr>\n",
       "      <th>236</th>\n",
       "      <td>looked</td>\n",
       "      <td>1</td>\n",
       "    </tr>\n",
       "    <tr>\n",
       "      <th>237</th>\n",
       "      <td>guard</td>\n",
       "      <td>1</td>\n",
       "    </tr>\n",
       "    <tr>\n",
       "      <th>238</th>\n",
       "      <td>home</td>\n",
       "      <td>1</td>\n",
       "    </tr>\n",
       "    <tr>\n",
       "      <th>239</th>\n",
       "      <td>bone</td>\n",
       "      <td>1</td>\n",
       "    </tr>\n",
       "    <tr>\n",
       "      <th>240</th>\n",
       "      <td>thirsty</td>\n",
       "      <td>1</td>\n",
       "    </tr>\n",
       "    <tr>\n",
       "      <th>241</th>\n",
       "      <td>fill</td>\n",
       "      <td>1</td>\n",
       "    </tr>\n",
       "    <tr>\n",
       "      <th>242</th>\n",
       "      <td>terrified</td>\n",
       "      <td>1</td>\n",
       "    </tr>\n",
       "    <tr>\n",
       "      <th>243</th>\n",
       "      <td>childrenat</td>\n",
       "      <td>1</td>\n",
       "    </tr>\n",
       "    <tr>\n",
       "      <th>244</th>\n",
       "      <td>wide</td>\n",
       "      <td>1</td>\n",
       "    </tr>\n",
       "  </tbody>\n",
       "</table>\n",
       "<p>245 rows × 2 columns</p>\n",
       "</div>"
      ],
      "text/plain": [
       "          words  tf\n",
       "0          wolf  18\n",
       "1        mother  16\n",
       "2           kid  10\n",
       "3         cried   9\n",
       "4          door   8\n",
       "5          dear   8\n",
       "6         child   7\n",
       "7          open   7\n",
       "8         voice   6\n",
       "9        inside   6\n",
       "10          paw   6\n",
       "11         wood   4\n",
       "12    something   4\n",
       "13       miller   4\n",
       "14        stone   4\n",
       "15          saw   4\n",
       "16         back   4\n",
       "17          got   3\n",
       "18      brought   3\n",
       "19        black   3\n",
       "20         body   3\n",
       "21         goat   3\n",
       "22         must   3\n",
       "23        baker   3\n",
       "24     youngest   3\n",
       "25          may   3\n",
       "26         come   3\n",
       "27          ran   3\n",
       "28          put   3\n",
       "29       hoarse   3\n",
       "..          ...  ..\n",
       "215       whole   1\n",
       "216       round   1\n",
       "217     kitchen   1\n",
       "218      thread   1\n",
       "219    standing   1\n",
       "220       sight   1\n",
       "221        sent   1\n",
       "222     bleated   1\n",
       "223        dont   1\n",
       "224      sought   1\n",
       "225        head   1\n",
       "226         day   1\n",
       "227       grief   1\n",
       "228       tried   1\n",
       "229       first   1\n",
       "230       lying   1\n",
       "231        soft   1\n",
       "232      bought   1\n",
       "233       clock   1\n",
       "234      struck   1\n",
       "235  struggling   1\n",
       "236      looked   1\n",
       "237       guard   1\n",
       "238        home   1\n",
       "239        bone   1\n",
       "240     thirsty   1\n",
       "241        fill   1\n",
       "242   terrified   1\n",
       "243  childrenat   1\n",
       "244        wide   1\n",
       "\n",
       "[245 rows x 2 columns]"
      ]
     },
     "execution_count": 57,
     "metadata": {},
     "output_type": "execute_result"
    }
   ],
   "source": [
    "tf1 = (folk['Story'][1:2]).apply(lambda x: pd.value_counts(x.split(\" \"))).sum(axis = 0).reset_index()\n",
    "tf1.columns = ['words','tf']\n",
    "tf1"
   ]
  },
  {
   "cell_type": "markdown",
   "metadata": {},
   "source": [
    "## Inverse Document Frequency"
   ]
  },
  {
   "cell_type": "code",
   "execution_count": 58,
   "metadata": {},
   "outputs": [
    {
     "data": {
      "text/html": [
       "<div>\n",
       "<style scoped>\n",
       "    .dataframe tbody tr th:only-of-type {\n",
       "        vertical-align: middle;\n",
       "    }\n",
       "\n",
       "    .dataframe tbody tr th {\n",
       "        vertical-align: top;\n",
       "    }\n",
       "\n",
       "    .dataframe thead th {\n",
       "        text-align: right;\n",
       "    }\n",
       "</style>\n",
       "<table border=\"1\" class=\"dataframe\">\n",
       "  <thead>\n",
       "    <tr style=\"text-align: right;\">\n",
       "      <th></th>\n",
       "      <th>words</th>\n",
       "      <th>tf</th>\n",
       "      <th>idf</th>\n",
       "    </tr>\n",
       "  </thead>\n",
       "  <tbody>\n",
       "    <tr>\n",
       "      <th>0</th>\n",
       "      <td>wolf</td>\n",
       "      <td>18</td>\n",
       "      <td>2.278645</td>\n",
       "    </tr>\n",
       "    <tr>\n",
       "      <th>1</th>\n",
       "      <td>mother</td>\n",
       "      <td>16</td>\n",
       "      <td>1.068241</td>\n",
       "    </tr>\n",
       "    <tr>\n",
       "      <th>2</th>\n",
       "      <td>kid</td>\n",
       "      <td>10</td>\n",
       "      <td>3.920873</td>\n",
       "    </tr>\n",
       "    <tr>\n",
       "      <th>3</th>\n",
       "      <td>cried</td>\n",
       "      <td>9</td>\n",
       "      <td>0.991161</td>\n",
       "    </tr>\n",
       "    <tr>\n",
       "      <th>4</th>\n",
       "      <td>door</td>\n",
       "      <td>8</td>\n",
       "      <td>1.081145</td>\n",
       "    </tr>\n",
       "    <tr>\n",
       "      <th>5</th>\n",
       "      <td>dear</td>\n",
       "      <td>8</td>\n",
       "      <td>1.289783</td>\n",
       "    </tr>\n",
       "    <tr>\n",
       "      <th>6</th>\n",
       "      <td>child</td>\n",
       "      <td>7</td>\n",
       "      <td>1.100817</td>\n",
       "    </tr>\n",
       "    <tr>\n",
       "      <th>7</th>\n",
       "      <td>open</td>\n",
       "      <td>7</td>\n",
       "      <td>0.991161</td>\n",
       "    </tr>\n",
       "    <tr>\n",
       "      <th>8</th>\n",
       "      <td>voice</td>\n",
       "      <td>6</td>\n",
       "      <td>1.663750</td>\n",
       "    </tr>\n",
       "    <tr>\n",
       "      <th>9</th>\n",
       "      <td>inside</td>\n",
       "      <td>6</td>\n",
       "      <td>1.717494</td>\n",
       "    </tr>\n",
       "    <tr>\n",
       "      <th>10</th>\n",
       "      <td>paw</td>\n",
       "      <td>6</td>\n",
       "      <td>3.227725</td>\n",
       "    </tr>\n",
       "    <tr>\n",
       "      <th>11</th>\n",
       "      <td>wood</td>\n",
       "      <td>4</td>\n",
       "      <td>1.137921</td>\n",
       "    </tr>\n",
       "    <tr>\n",
       "      <th>12</th>\n",
       "      <td>something</td>\n",
       "      <td>4</td>\n",
       "      <td>1.148284</td>\n",
       "    </tr>\n",
       "    <tr>\n",
       "      <th>13</th>\n",
       "      <td>miller</td>\n",
       "      <td>4</td>\n",
       "      <td>3.675750</td>\n",
       "    </tr>\n",
       "    <tr>\n",
       "      <th>14</th>\n",
       "      <td>stone</td>\n",
       "      <td>4</td>\n",
       "      <td>1.493124</td>\n",
       "    </tr>\n",
       "    <tr>\n",
       "      <th>15</th>\n",
       "      <td>saw</td>\n",
       "      <td>4</td>\n",
       "      <td>0.639544</td>\n",
       "    </tr>\n",
       "    <tr>\n",
       "      <th>16</th>\n",
       "      <td>back</td>\n",
       "      <td>4</td>\n",
       "      <td>0.747459</td>\n",
       "    </tr>\n",
       "    <tr>\n",
       "      <th>17</th>\n",
       "      <td>got</td>\n",
       "      <td>3</td>\n",
       "      <td>0.770990</td>\n",
       "    </tr>\n",
       "    <tr>\n",
       "      <th>18</th>\n",
       "      <td>brought</td>\n",
       "      <td>3</td>\n",
       "      <td>1.012152</td>\n",
       "    </tr>\n",
       "    <tr>\n",
       "      <th>19</th>\n",
       "      <td>black</td>\n",
       "      <td>3</td>\n",
       "      <td>1.502977</td>\n",
       "    </tr>\n",
       "    <tr>\n",
       "      <th>20</th>\n",
       "      <td>body</td>\n",
       "      <td>3</td>\n",
       "      <td>1.309986</td>\n",
       "    </tr>\n",
       "    <tr>\n",
       "      <th>21</th>\n",
       "      <td>goat</td>\n",
       "      <td>3</td>\n",
       "      <td>2.860001</td>\n",
       "    </tr>\n",
       "    <tr>\n",
       "      <th>22</th>\n",
       "      <td>must</td>\n",
       "      <td>3</td>\n",
       "      <td>0.669207</td>\n",
       "    </tr>\n",
       "    <tr>\n",
       "      <th>23</th>\n",
       "      <td>baker</td>\n",
       "      <td>3</td>\n",
       "      <td>4.326338</td>\n",
       "    </tr>\n",
       "    <tr>\n",
       "      <th>24</th>\n",
       "      <td>youngest</td>\n",
       "      <td>3</td>\n",
       "      <td>2.186272</td>\n",
       "    </tr>\n",
       "    <tr>\n",
       "      <th>25</th>\n",
       "      <td>may</td>\n",
       "      <td>3</td>\n",
       "      <td>0.829830</td>\n",
       "    </tr>\n",
       "    <tr>\n",
       "      <th>26</th>\n",
       "      <td>come</td>\n",
       "      <td>3</td>\n",
       "      <td>0.490476</td>\n",
       "    </tr>\n",
       "    <tr>\n",
       "      <th>27</th>\n",
       "      <td>ran</td>\n",
       "      <td>3</td>\n",
       "      <td>0.426050</td>\n",
       "    </tr>\n",
       "    <tr>\n",
       "      <th>28</th>\n",
       "      <td>put</td>\n",
       "      <td>3</td>\n",
       "      <td>0.747459</td>\n",
       "    </tr>\n",
       "    <tr>\n",
       "      <th>29</th>\n",
       "      <td>hoarse</td>\n",
       "      <td>3</td>\n",
       "      <td>4.731803</td>\n",
       "    </tr>\n",
       "    <tr>\n",
       "      <th>...</th>\n",
       "      <td>...</td>\n",
       "      <td>...</td>\n",
       "      <td>...</td>\n",
       "    </tr>\n",
       "    <tr>\n",
       "      <th>215</th>\n",
       "      <td>whole</td>\n",
       "      <td>1</td>\n",
       "      <td>0.973514</td>\n",
       "    </tr>\n",
       "    <tr>\n",
       "      <th>216</th>\n",
       "      <td>round</td>\n",
       "      <td>1</td>\n",
       "      <td>0.704221</td>\n",
       "    </tr>\n",
       "    <tr>\n",
       "      <th>217</th>\n",
       "      <td>kitchen</td>\n",
       "      <td>1</td>\n",
       "      <td>2.196124</td>\n",
       "    </tr>\n",
       "    <tr>\n",
       "      <th>218</th>\n",
       "      <td>thread</td>\n",
       "      <td>1</td>\n",
       "      <td>3.050044</td>\n",
       "    </tr>\n",
       "    <tr>\n",
       "      <th>219</th>\n",
       "      <td>standing</td>\n",
       "      <td>1</td>\n",
       "      <td>1.449952</td>\n",
       "    </tr>\n",
       "    <tr>\n",
       "      <th>220</th>\n",
       "      <td>sight</td>\n",
       "      <td>1</td>\n",
       "      <td>1.623859</td>\n",
       "    </tr>\n",
       "    <tr>\n",
       "      <th>221</th>\n",
       "      <td>sent</td>\n",
       "      <td>1</td>\n",
       "      <td>0.956172</td>\n",
       "    </tr>\n",
       "    <tr>\n",
       "      <th>222</th>\n",
       "      <td>bleated</td>\n",
       "      <td>1</td>\n",
       "      <td>5.424950</td>\n",
       "    </tr>\n",
       "    <tr>\n",
       "      <th>223</th>\n",
       "      <td>dont</td>\n",
       "      <td>1</td>\n",
       "      <td>1.262168</td>\n",
       "    </tr>\n",
       "    <tr>\n",
       "      <th>224</th>\n",
       "      <td>sought</td>\n",
       "      <td>1</td>\n",
       "      <td>2.441797</td>\n",
       "    </tr>\n",
       "    <tr>\n",
       "      <th>225</th>\n",
       "      <td>head</td>\n",
       "      <td>1</td>\n",
       "      <td>0.829830</td>\n",
       "    </tr>\n",
       "    <tr>\n",
       "      <th>226</th>\n",
       "      <td>day</td>\n",
       "      <td>1</td>\n",
       "      <td>0.495886</td>\n",
       "    </tr>\n",
       "    <tr>\n",
       "      <th>227</th>\n",
       "      <td>grief</td>\n",
       "      <td>1</td>\n",
       "      <td>2.267950</td>\n",
       "    </tr>\n",
       "    <tr>\n",
       "      <th>228</th>\n",
       "      <td>tried</td>\n",
       "      <td>1</td>\n",
       "      <td>1.928442</td>\n",
       "    </tr>\n",
       "    <tr>\n",
       "      <th>229</th>\n",
       "      <td>first</td>\n",
       "      <td>1</td>\n",
       "      <td>0.827308</td>\n",
       "    </tr>\n",
       "    <tr>\n",
       "      <th>230</th>\n",
       "      <td>lying</td>\n",
       "      <td>1</td>\n",
       "      <td>1.338974</td>\n",
       "    </tr>\n",
       "    <tr>\n",
       "      <th>231</th>\n",
       "      <td>soft</td>\n",
       "      <td>1</td>\n",
       "      <td>1.974962</td>\n",
       "    </tr>\n",
       "    <tr>\n",
       "      <th>232</th>\n",
       "      <td>bought</td>\n",
       "      <td>1</td>\n",
       "      <td>2.621590</td>\n",
       "    </tr>\n",
       "    <tr>\n",
       "      <th>233</th>\n",
       "      <td>clock</td>\n",
       "      <td>1</td>\n",
       "      <td>2.899221</td>\n",
       "    </tr>\n",
       "    <tr>\n",
       "      <th>234</th>\n",
       "      <td>struck</td>\n",
       "      <td>1</td>\n",
       "      <td>1.920895</td>\n",
       "    </tr>\n",
       "    <tr>\n",
       "      <th>235</th>\n",
       "      <td>struggling</td>\n",
       "      <td>1</td>\n",
       "      <td>4.326338</td>\n",
       "    </tr>\n",
       "    <tr>\n",
       "      <th>236</th>\n",
       "      <td>looked</td>\n",
       "      <td>1</td>\n",
       "      <td>0.994133</td>\n",
       "    </tr>\n",
       "    <tr>\n",
       "      <th>237</th>\n",
       "      <td>guard</td>\n",
       "      <td>1</td>\n",
       "      <td>2.380428</td>\n",
       "    </tr>\n",
       "    <tr>\n",
       "      <th>238</th>\n",
       "      <td>home</td>\n",
       "      <td>1</td>\n",
       "      <td>0.729025</td>\n",
       "    </tr>\n",
       "    <tr>\n",
       "      <th>239</th>\n",
       "      <td>bone</td>\n",
       "      <td>1</td>\n",
       "      <td>2.429218</td>\n",
       "    </tr>\n",
       "    <tr>\n",
       "      <th>240</th>\n",
       "      <td>thirsty</td>\n",
       "      <td>1</td>\n",
       "      <td>3.284884</td>\n",
       "    </tr>\n",
       "    <tr>\n",
       "      <th>241</th>\n",
       "      <td>fill</td>\n",
       "      <td>1</td>\n",
       "      <td>1.473706</td>\n",
       "    </tr>\n",
       "    <tr>\n",
       "      <th>242</th>\n",
       "      <td>terrified</td>\n",
       "      <td>1</td>\n",
       "      <td>2.652361</td>\n",
       "    </tr>\n",
       "    <tr>\n",
       "      <th>243</th>\n",
       "      <td>childrenat</td>\n",
       "      <td>1</td>\n",
       "      <td>6.811244</td>\n",
       "    </tr>\n",
       "    <tr>\n",
       "      <th>244</th>\n",
       "      <td>wide</td>\n",
       "      <td>1</td>\n",
       "      <td>1.959214</td>\n",
       "    </tr>\n",
       "  </tbody>\n",
       "</table>\n",
       "<p>245 rows × 3 columns</p>\n",
       "</div>"
      ],
      "text/plain": [
       "          words  tf       idf\n",
       "0          wolf  18  2.278645\n",
       "1        mother  16  1.068241\n",
       "2           kid  10  3.920873\n",
       "3         cried   9  0.991161\n",
       "4          door   8  1.081145\n",
       "5          dear   8  1.289783\n",
       "6         child   7  1.100817\n",
       "7          open   7  0.991161\n",
       "8         voice   6  1.663750\n",
       "9        inside   6  1.717494\n",
       "10          paw   6  3.227725\n",
       "11         wood   4  1.137921\n",
       "12    something   4  1.148284\n",
       "13       miller   4  3.675750\n",
       "14        stone   4  1.493124\n",
       "15          saw   4  0.639544\n",
       "16         back   4  0.747459\n",
       "17          got   3  0.770990\n",
       "18      brought   3  1.012152\n",
       "19        black   3  1.502977\n",
       "20         body   3  1.309986\n",
       "21         goat   3  2.860001\n",
       "22         must   3  0.669207\n",
       "23        baker   3  4.326338\n",
       "24     youngest   3  2.186272\n",
       "25          may   3  0.829830\n",
       "26         come   3  0.490476\n",
       "27          ran   3  0.426050\n",
       "28          put   3  0.747459\n",
       "29       hoarse   3  4.731803\n",
       "..          ...  ..       ...\n",
       "215       whole   1  0.973514\n",
       "216       round   1  0.704221\n",
       "217     kitchen   1  2.196124\n",
       "218      thread   1  3.050044\n",
       "219    standing   1  1.449952\n",
       "220       sight   1  1.623859\n",
       "221        sent   1  0.956172\n",
       "222     bleated   1  5.424950\n",
       "223        dont   1  1.262168\n",
       "224      sought   1  2.441797\n",
       "225        head   1  0.829830\n",
       "226         day   1  0.495886\n",
       "227       grief   1  2.267950\n",
       "228       tried   1  1.928442\n",
       "229       first   1  0.827308\n",
       "230       lying   1  1.338974\n",
       "231        soft   1  1.974962\n",
       "232      bought   1  2.621590\n",
       "233       clock   1  2.899221\n",
       "234      struck   1  1.920895\n",
       "235  struggling   1  4.326338\n",
       "236      looked   1  0.994133\n",
       "237       guard   1  2.380428\n",
       "238        home   1  0.729025\n",
       "239        bone   1  2.429218\n",
       "240     thirsty   1  3.284884\n",
       "241        fill   1  1.473706\n",
       "242   terrified   1  2.652361\n",
       "243  childrenat   1  6.811244\n",
       "244        wide   1  1.959214\n",
       "\n",
       "[245 rows x 3 columns]"
      ]
     },
     "execution_count": 58,
     "metadata": {},
     "output_type": "execute_result"
    }
   ],
   "source": [
    "for i,word in enumerate(tf1['words']):\n",
    "    tf1.loc[i, 'idf'] = np.log(folk.shape[0]/(len(folk[folk['Story'].str.contains(word)])))\n",
    "\n",
    "tf1"
   ]
  },
  {
   "cell_type": "markdown",
   "metadata": {},
   "source": [
    "## Term Frequency – Inverse Document Frequency (TF-IDF)"
   ]
  },
  {
   "cell_type": "code",
   "execution_count": 59,
   "metadata": {},
   "outputs": [
    {
     "data": {
      "text/html": [
       "<div>\n",
       "<style scoped>\n",
       "    .dataframe tbody tr th:only-of-type {\n",
       "        vertical-align: middle;\n",
       "    }\n",
       "\n",
       "    .dataframe tbody tr th {\n",
       "        vertical-align: top;\n",
       "    }\n",
       "\n",
       "    .dataframe thead th {\n",
       "        text-align: right;\n",
       "    }\n",
       "</style>\n",
       "<table border=\"1\" class=\"dataframe\">\n",
       "  <thead>\n",
       "    <tr style=\"text-align: right;\">\n",
       "      <th></th>\n",
       "      <th>words</th>\n",
       "      <th>tf</th>\n",
       "      <th>idf</th>\n",
       "      <th>tfidf</th>\n",
       "    </tr>\n",
       "  </thead>\n",
       "  <tbody>\n",
       "    <tr>\n",
       "      <th>0</th>\n",
       "      <td>wolf</td>\n",
       "      <td>18</td>\n",
       "      <td>2.278645</td>\n",
       "      <td>41.015608</td>\n",
       "    </tr>\n",
       "    <tr>\n",
       "      <th>1</th>\n",
       "      <td>mother</td>\n",
       "      <td>16</td>\n",
       "      <td>1.068241</td>\n",
       "      <td>17.091859</td>\n",
       "    </tr>\n",
       "    <tr>\n",
       "      <th>2</th>\n",
       "      <td>kid</td>\n",
       "      <td>10</td>\n",
       "      <td>3.920873</td>\n",
       "      <td>39.208726</td>\n",
       "    </tr>\n",
       "    <tr>\n",
       "      <th>3</th>\n",
       "      <td>cried</td>\n",
       "      <td>9</td>\n",
       "      <td>0.991161</td>\n",
       "      <td>8.920453</td>\n",
       "    </tr>\n",
       "    <tr>\n",
       "      <th>4</th>\n",
       "      <td>door</td>\n",
       "      <td>8</td>\n",
       "      <td>1.081145</td>\n",
       "      <td>8.649157</td>\n",
       "    </tr>\n",
       "    <tr>\n",
       "      <th>5</th>\n",
       "      <td>dear</td>\n",
       "      <td>8</td>\n",
       "      <td>1.289783</td>\n",
       "      <td>10.318268</td>\n",
       "    </tr>\n",
       "    <tr>\n",
       "      <th>6</th>\n",
       "      <td>child</td>\n",
       "      <td>7</td>\n",
       "      <td>1.100817</td>\n",
       "      <td>7.705722</td>\n",
       "    </tr>\n",
       "    <tr>\n",
       "      <th>7</th>\n",
       "      <td>open</td>\n",
       "      <td>7</td>\n",
       "      <td>0.991161</td>\n",
       "      <td>6.938130</td>\n",
       "    </tr>\n",
       "    <tr>\n",
       "      <th>8</th>\n",
       "      <td>voice</td>\n",
       "      <td>6</td>\n",
       "      <td>1.663750</td>\n",
       "      <td>9.982499</td>\n",
       "    </tr>\n",
       "    <tr>\n",
       "      <th>9</th>\n",
       "      <td>inside</td>\n",
       "      <td>6</td>\n",
       "      <td>1.717494</td>\n",
       "      <td>10.304965</td>\n",
       "    </tr>\n",
       "    <tr>\n",
       "      <th>10</th>\n",
       "      <td>paw</td>\n",
       "      <td>6</td>\n",
       "      <td>3.227725</td>\n",
       "      <td>19.366353</td>\n",
       "    </tr>\n",
       "    <tr>\n",
       "      <th>11</th>\n",
       "      <td>wood</td>\n",
       "      <td>4</td>\n",
       "      <td>1.137921</td>\n",
       "      <td>4.551684</td>\n",
       "    </tr>\n",
       "    <tr>\n",
       "      <th>12</th>\n",
       "      <td>something</td>\n",
       "      <td>4</td>\n",
       "      <td>1.148284</td>\n",
       "      <td>4.593136</td>\n",
       "    </tr>\n",
       "    <tr>\n",
       "      <th>13</th>\n",
       "      <td>miller</td>\n",
       "      <td>4</td>\n",
       "      <td>3.675750</td>\n",
       "      <td>14.703001</td>\n",
       "    </tr>\n",
       "    <tr>\n",
       "      <th>14</th>\n",
       "      <td>stone</td>\n",
       "      <td>4</td>\n",
       "      <td>1.493124</td>\n",
       "      <td>5.972498</td>\n",
       "    </tr>\n",
       "    <tr>\n",
       "      <th>15</th>\n",
       "      <td>saw</td>\n",
       "      <td>4</td>\n",
       "      <td>0.639544</td>\n",
       "      <td>2.558175</td>\n",
       "    </tr>\n",
       "    <tr>\n",
       "      <th>16</th>\n",
       "      <td>back</td>\n",
       "      <td>4</td>\n",
       "      <td>0.747459</td>\n",
       "      <td>2.989837</td>\n",
       "    </tr>\n",
       "    <tr>\n",
       "      <th>17</th>\n",
       "      <td>got</td>\n",
       "      <td>3</td>\n",
       "      <td>0.770990</td>\n",
       "      <td>2.312969</td>\n",
       "    </tr>\n",
       "    <tr>\n",
       "      <th>18</th>\n",
       "      <td>brought</td>\n",
       "      <td>3</td>\n",
       "      <td>1.012152</td>\n",
       "      <td>3.036455</td>\n",
       "    </tr>\n",
       "    <tr>\n",
       "      <th>19</th>\n",
       "      <td>black</td>\n",
       "      <td>3</td>\n",
       "      <td>1.502977</td>\n",
       "      <td>4.508930</td>\n",
       "    </tr>\n",
       "    <tr>\n",
       "      <th>20</th>\n",
       "      <td>body</td>\n",
       "      <td>3</td>\n",
       "      <td>1.309986</td>\n",
       "      <td>3.929959</td>\n",
       "    </tr>\n",
       "    <tr>\n",
       "      <th>21</th>\n",
       "      <td>goat</td>\n",
       "      <td>3</td>\n",
       "      <td>2.860001</td>\n",
       "      <td>8.580002</td>\n",
       "    </tr>\n",
       "    <tr>\n",
       "      <th>22</th>\n",
       "      <td>must</td>\n",
       "      <td>3</td>\n",
       "      <td>0.669207</td>\n",
       "      <td>2.007621</td>\n",
       "    </tr>\n",
       "    <tr>\n",
       "      <th>23</th>\n",
       "      <td>baker</td>\n",
       "      <td>3</td>\n",
       "      <td>4.326338</td>\n",
       "      <td>12.979013</td>\n",
       "    </tr>\n",
       "    <tr>\n",
       "      <th>24</th>\n",
       "      <td>youngest</td>\n",
       "      <td>3</td>\n",
       "      <td>2.186272</td>\n",
       "      <td>6.558815</td>\n",
       "    </tr>\n",
       "    <tr>\n",
       "      <th>25</th>\n",
       "      <td>may</td>\n",
       "      <td>3</td>\n",
       "      <td>0.829830</td>\n",
       "      <td>2.489491</td>\n",
       "    </tr>\n",
       "    <tr>\n",
       "      <th>26</th>\n",
       "      <td>come</td>\n",
       "      <td>3</td>\n",
       "      <td>0.490476</td>\n",
       "      <td>1.471428</td>\n",
       "    </tr>\n",
       "    <tr>\n",
       "      <th>27</th>\n",
       "      <td>ran</td>\n",
       "      <td>3</td>\n",
       "      <td>0.426050</td>\n",
       "      <td>1.278150</td>\n",
       "    </tr>\n",
       "    <tr>\n",
       "      <th>28</th>\n",
       "      <td>put</td>\n",
       "      <td>3</td>\n",
       "      <td>0.747459</td>\n",
       "      <td>2.242378</td>\n",
       "    </tr>\n",
       "    <tr>\n",
       "      <th>29</th>\n",
       "      <td>hoarse</td>\n",
       "      <td>3</td>\n",
       "      <td>4.731803</td>\n",
       "      <td>14.195409</td>\n",
       "    </tr>\n",
       "    <tr>\n",
       "      <th>...</th>\n",
       "      <td>...</td>\n",
       "      <td>...</td>\n",
       "      <td>...</td>\n",
       "      <td>...</td>\n",
       "    </tr>\n",
       "    <tr>\n",
       "      <th>215</th>\n",
       "      <td>whole</td>\n",
       "      <td>1</td>\n",
       "      <td>0.973514</td>\n",
       "      <td>0.973514</td>\n",
       "    </tr>\n",
       "    <tr>\n",
       "      <th>216</th>\n",
       "      <td>round</td>\n",
       "      <td>1</td>\n",
       "      <td>0.704221</td>\n",
       "      <td>0.704221</td>\n",
       "    </tr>\n",
       "    <tr>\n",
       "      <th>217</th>\n",
       "      <td>kitchen</td>\n",
       "      <td>1</td>\n",
       "      <td>2.196124</td>\n",
       "      <td>2.196124</td>\n",
       "    </tr>\n",
       "    <tr>\n",
       "      <th>218</th>\n",
       "      <td>thread</td>\n",
       "      <td>1</td>\n",
       "      <td>3.050044</td>\n",
       "      <td>3.050044</td>\n",
       "    </tr>\n",
       "    <tr>\n",
       "      <th>219</th>\n",
       "      <td>standing</td>\n",
       "      <td>1</td>\n",
       "      <td>1.449952</td>\n",
       "      <td>1.449952</td>\n",
       "    </tr>\n",
       "    <tr>\n",
       "      <th>220</th>\n",
       "      <td>sight</td>\n",
       "      <td>1</td>\n",
       "      <td>1.623859</td>\n",
       "      <td>1.623859</td>\n",
       "    </tr>\n",
       "    <tr>\n",
       "      <th>221</th>\n",
       "      <td>sent</td>\n",
       "      <td>1</td>\n",
       "      <td>0.956172</td>\n",
       "      <td>0.956172</td>\n",
       "    </tr>\n",
       "    <tr>\n",
       "      <th>222</th>\n",
       "      <td>bleated</td>\n",
       "      <td>1</td>\n",
       "      <td>5.424950</td>\n",
       "      <td>5.424950</td>\n",
       "    </tr>\n",
       "    <tr>\n",
       "      <th>223</th>\n",
       "      <td>dont</td>\n",
       "      <td>1</td>\n",
       "      <td>1.262168</td>\n",
       "      <td>1.262168</td>\n",
       "    </tr>\n",
       "    <tr>\n",
       "      <th>224</th>\n",
       "      <td>sought</td>\n",
       "      <td>1</td>\n",
       "      <td>2.441797</td>\n",
       "      <td>2.441797</td>\n",
       "    </tr>\n",
       "    <tr>\n",
       "      <th>225</th>\n",
       "      <td>head</td>\n",
       "      <td>1</td>\n",
       "      <td>0.829830</td>\n",
       "      <td>0.829830</td>\n",
       "    </tr>\n",
       "    <tr>\n",
       "      <th>226</th>\n",
       "      <td>day</td>\n",
       "      <td>1</td>\n",
       "      <td>0.495886</td>\n",
       "      <td>0.495886</td>\n",
       "    </tr>\n",
       "    <tr>\n",
       "      <th>227</th>\n",
       "      <td>grief</td>\n",
       "      <td>1</td>\n",
       "      <td>2.267950</td>\n",
       "      <td>2.267950</td>\n",
       "    </tr>\n",
       "    <tr>\n",
       "      <th>228</th>\n",
       "      <td>tried</td>\n",
       "      <td>1</td>\n",
       "      <td>1.928442</td>\n",
       "      <td>1.928442</td>\n",
       "    </tr>\n",
       "    <tr>\n",
       "      <th>229</th>\n",
       "      <td>first</td>\n",
       "      <td>1</td>\n",
       "      <td>0.827308</td>\n",
       "      <td>0.827308</td>\n",
       "    </tr>\n",
       "    <tr>\n",
       "      <th>230</th>\n",
       "      <td>lying</td>\n",
       "      <td>1</td>\n",
       "      <td>1.338974</td>\n",
       "      <td>1.338974</td>\n",
       "    </tr>\n",
       "    <tr>\n",
       "      <th>231</th>\n",
       "      <td>soft</td>\n",
       "      <td>1</td>\n",
       "      <td>1.974962</td>\n",
       "      <td>1.974962</td>\n",
       "    </tr>\n",
       "    <tr>\n",
       "      <th>232</th>\n",
       "      <td>bought</td>\n",
       "      <td>1</td>\n",
       "      <td>2.621590</td>\n",
       "      <td>2.621590</td>\n",
       "    </tr>\n",
       "    <tr>\n",
       "      <th>233</th>\n",
       "      <td>clock</td>\n",
       "      <td>1</td>\n",
       "      <td>2.899221</td>\n",
       "      <td>2.899221</td>\n",
       "    </tr>\n",
       "    <tr>\n",
       "      <th>234</th>\n",
       "      <td>struck</td>\n",
       "      <td>1</td>\n",
       "      <td>1.920895</td>\n",
       "      <td>1.920895</td>\n",
       "    </tr>\n",
       "    <tr>\n",
       "      <th>235</th>\n",
       "      <td>struggling</td>\n",
       "      <td>1</td>\n",
       "      <td>4.326338</td>\n",
       "      <td>4.326338</td>\n",
       "    </tr>\n",
       "    <tr>\n",
       "      <th>236</th>\n",
       "      <td>looked</td>\n",
       "      <td>1</td>\n",
       "      <td>0.994133</td>\n",
       "      <td>0.994133</td>\n",
       "    </tr>\n",
       "    <tr>\n",
       "      <th>237</th>\n",
       "      <td>guard</td>\n",
       "      <td>1</td>\n",
       "      <td>2.380428</td>\n",
       "      <td>2.380428</td>\n",
       "    </tr>\n",
       "    <tr>\n",
       "      <th>238</th>\n",
       "      <td>home</td>\n",
       "      <td>1</td>\n",
       "      <td>0.729025</td>\n",
       "      <td>0.729025</td>\n",
       "    </tr>\n",
       "    <tr>\n",
       "      <th>239</th>\n",
       "      <td>bone</td>\n",
       "      <td>1</td>\n",
       "      <td>2.429218</td>\n",
       "      <td>2.429218</td>\n",
       "    </tr>\n",
       "    <tr>\n",
       "      <th>240</th>\n",
       "      <td>thirsty</td>\n",
       "      <td>1</td>\n",
       "      <td>3.284884</td>\n",
       "      <td>3.284884</td>\n",
       "    </tr>\n",
       "    <tr>\n",
       "      <th>241</th>\n",
       "      <td>fill</td>\n",
       "      <td>1</td>\n",
       "      <td>1.473706</td>\n",
       "      <td>1.473706</td>\n",
       "    </tr>\n",
       "    <tr>\n",
       "      <th>242</th>\n",
       "      <td>terrified</td>\n",
       "      <td>1</td>\n",
       "      <td>2.652361</td>\n",
       "      <td>2.652361</td>\n",
       "    </tr>\n",
       "    <tr>\n",
       "      <th>243</th>\n",
       "      <td>childrenat</td>\n",
       "      <td>1</td>\n",
       "      <td>6.811244</td>\n",
       "      <td>6.811244</td>\n",
       "    </tr>\n",
       "    <tr>\n",
       "      <th>244</th>\n",
       "      <td>wide</td>\n",
       "      <td>1</td>\n",
       "      <td>1.959214</td>\n",
       "      <td>1.959214</td>\n",
       "    </tr>\n",
       "  </tbody>\n",
       "</table>\n",
       "<p>245 rows × 4 columns</p>\n",
       "</div>"
      ],
      "text/plain": [
       "          words  tf       idf      tfidf\n",
       "0          wolf  18  2.278645  41.015608\n",
       "1        mother  16  1.068241  17.091859\n",
       "2           kid  10  3.920873  39.208726\n",
       "3         cried   9  0.991161   8.920453\n",
       "4          door   8  1.081145   8.649157\n",
       "5          dear   8  1.289783  10.318268\n",
       "6         child   7  1.100817   7.705722\n",
       "7          open   7  0.991161   6.938130\n",
       "8         voice   6  1.663750   9.982499\n",
       "9        inside   6  1.717494  10.304965\n",
       "10          paw   6  3.227725  19.366353\n",
       "11         wood   4  1.137921   4.551684\n",
       "12    something   4  1.148284   4.593136\n",
       "13       miller   4  3.675750  14.703001\n",
       "14        stone   4  1.493124   5.972498\n",
       "15          saw   4  0.639544   2.558175\n",
       "16         back   4  0.747459   2.989837\n",
       "17          got   3  0.770990   2.312969\n",
       "18      brought   3  1.012152   3.036455\n",
       "19        black   3  1.502977   4.508930\n",
       "20         body   3  1.309986   3.929959\n",
       "21         goat   3  2.860001   8.580002\n",
       "22         must   3  0.669207   2.007621\n",
       "23        baker   3  4.326338  12.979013\n",
       "24     youngest   3  2.186272   6.558815\n",
       "25          may   3  0.829830   2.489491\n",
       "26         come   3  0.490476   1.471428\n",
       "27          ran   3  0.426050   1.278150\n",
       "28          put   3  0.747459   2.242378\n",
       "29       hoarse   3  4.731803  14.195409\n",
       "..          ...  ..       ...        ...\n",
       "215       whole   1  0.973514   0.973514\n",
       "216       round   1  0.704221   0.704221\n",
       "217     kitchen   1  2.196124   2.196124\n",
       "218      thread   1  3.050044   3.050044\n",
       "219    standing   1  1.449952   1.449952\n",
       "220       sight   1  1.623859   1.623859\n",
       "221        sent   1  0.956172   0.956172\n",
       "222     bleated   1  5.424950   5.424950\n",
       "223        dont   1  1.262168   1.262168\n",
       "224      sought   1  2.441797   2.441797\n",
       "225        head   1  0.829830   0.829830\n",
       "226         day   1  0.495886   0.495886\n",
       "227       grief   1  2.267950   2.267950\n",
       "228       tried   1  1.928442   1.928442\n",
       "229       first   1  0.827308   0.827308\n",
       "230       lying   1  1.338974   1.338974\n",
       "231        soft   1  1.974962   1.974962\n",
       "232      bought   1  2.621590   2.621590\n",
       "233       clock   1  2.899221   2.899221\n",
       "234      struck   1  1.920895   1.920895\n",
       "235  struggling   1  4.326338   4.326338\n",
       "236      looked   1  0.994133   0.994133\n",
       "237       guard   1  2.380428   2.380428\n",
       "238        home   1  0.729025   0.729025\n",
       "239        bone   1  2.429218   2.429218\n",
       "240     thirsty   1  3.284884   3.284884\n",
       "241        fill   1  1.473706   1.473706\n",
       "242   terrified   1  2.652361   2.652361\n",
       "243  childrenat   1  6.811244   6.811244\n",
       "244        wide   1  1.959214   1.959214\n",
       "\n",
       "[245 rows x 4 columns]"
      ]
     },
     "execution_count": 59,
     "metadata": {},
     "output_type": "execute_result"
    }
   ],
   "source": [
    "tf1['tfidf'] = tf1['tf'] * tf1['idf']\n",
    "tf1"
   ]
  },
  {
   "cell_type": "markdown",
   "metadata": {},
   "source": [
    "## Bag of Words"
   ]
  },
  {
   "cell_type": "code",
   "execution_count": 60,
   "metadata": {},
   "outputs": [
    {
     "data": {
      "text/plain": [
       "<908x1000 sparse matrix of type '<class 'numpy.float64'>'\n",
       "\twith 117496 stored elements in Compressed Sparse Row format>"
      ]
     },
     "execution_count": 60,
     "metadata": {},
     "output_type": "execute_result"
    }
   ],
   "source": [
    "from sklearn.feature_extraction.text import TfidfVectorizer\n",
    "tfidf = TfidfVectorizer(max_features=1000, lowercase=True, analyzer='word',\n",
    " stop_words= 'english',ngram_range=(1,1))\n",
    "folk_vect = tfidf.fit_transform(folk['Story'])\n",
    "\n",
    "folk_vect"
   ]
  },
  {
   "cell_type": "code",
   "execution_count": 61,
   "metadata": {},
   "outputs": [
    {
     "data": {
      "text/plain": [
       "<908x1000 sparse matrix of type '<class 'numpy.int64'>'\n",
       "\twith 136083 stored elements in Compressed Sparse Row format>"
      ]
     },
     "execution_count": 61,
     "metadata": {},
     "output_type": "execute_result"
    }
   ],
   "source": [
    "from sklearn.feature_extraction.text import CountVectorizer\n",
    "bow = CountVectorizer(max_features=1000, lowercase=True, ngram_range=(1,1),analyzer = \"word\")\n",
    "folk_bow = bow.fit_transform(folk['Story'])\n",
    "folk_bow"
   ]
  },
  {
   "cell_type": "code",
   "execution_count": 62,
   "metadata": {},
   "outputs": [
    {
     "data": {
      "text/plain": [
       "0      (0.21925970534841502, 0.4762608806963645)\n",
       "1    (-0.023767006802721088, 0.4003401360544218)\n",
       "2      (0.21205513784461166, 0.5229620927318298)\n",
       "3      (0.11392783353010624, 0.5360229732388825)\n",
       "4     (0.06699011680143753, 0.43359389038634333)\n",
       "Name: Story, dtype: object"
      ]
     },
     "execution_count": 62,
     "metadata": {},
     "output_type": "execute_result"
    }
   ],
   "source": [
    "folk['Story'][:5].apply(lambda x: TextBlob(x).sentiment)"
   ]
  },
  {
   "cell_type": "markdown",
   "metadata": {},
   "source": [
    "## Sentiment Analysis"
   ]
  },
  {
   "cell_type": "code",
   "execution_count": 63,
   "metadata": {},
   "outputs": [
    {
     "data": {
      "text/html": [
       "<div>\n",
       "<style scoped>\n",
       "    .dataframe tbody tr th:only-of-type {\n",
       "        vertical-align: middle;\n",
       "    }\n",
       "\n",
       "    .dataframe tbody tr th {\n",
       "        vertical-align: top;\n",
       "    }\n",
       "\n",
       "    .dataframe thead th {\n",
       "        text-align: right;\n",
       "    }\n",
       "</style>\n",
       "<table border=\"1\" class=\"dataframe\">\n",
       "  <thead>\n",
       "    <tr style=\"text-align: right;\">\n",
       "      <th></th>\n",
       "      <th>Story</th>\n",
       "      <th>sentiment</th>\n",
       "    </tr>\n",
       "  </thead>\n",
       "  <tbody>\n",
       "    <tr>\n",
       "      <th>0</th>\n",
       "      <td>cat made acquaintance mouse much great love fr...</td>\n",
       "      <td>0.219260</td>\n",
       "    </tr>\n",
       "    <tr>\n",
       "      <th>1</th>\n",
       "      <td>goat seven one fond ever mother child day go w...</td>\n",
       "      <td>-0.023767</td>\n",
       "    </tr>\n",
       "    <tr>\n",
       "      <th>2</th>\n",
       "      <td>upon time ill thought likely deathbed send tru...</td>\n",
       "      <td>0.212055</td>\n",
       "    </tr>\n",
       "    <tr>\n",
       "      <th>3</th>\n",
       "      <td>peasant driven cow fair sold seven thalers way...</td>\n",
       "      <td>0.113928</td>\n",
       "    </tr>\n",
       "    <tr>\n",
       "      <th>4</th>\n",
       "      <td>wonderful musician quite alone forest thought ...</td>\n",
       "      <td>0.066990</td>\n",
       "    </tr>\n",
       "  </tbody>\n",
       "</table>\n",
       "</div>"
      ],
      "text/plain": [
       "                                               Story  sentiment\n",
       "0  cat made acquaintance mouse much great love fr...   0.219260\n",
       "1  goat seven one fond ever mother child day go w...  -0.023767\n",
       "2  upon time ill thought likely deathbed send tru...   0.212055\n",
       "3  peasant driven cow fair sold seven thalers way...   0.113928\n",
       "4  wonderful musician quite alone forest thought ...   0.066990"
      ]
     },
     "execution_count": 63,
     "metadata": {},
     "output_type": "execute_result"
    }
   ],
   "source": [
    "folk['sentiment'] = folk['Story'].apply(lambda x: TextBlob(x).sentiment[0] )\n",
    "folk[['Story','sentiment']].head()"
   ]
  },
  {
   "cell_type": "code",
   "execution_count": null,
   "metadata": {},
   "outputs": [],
   "source": []
  },
  {
   "cell_type": "code",
   "execution_count": null,
   "metadata": {},
   "outputs": [],
   "source": []
  },
  {
   "cell_type": "code",
   "execution_count": null,
   "metadata": {},
   "outputs": [],
   "source": []
  },
  {
   "cell_type": "code",
   "execution_count": null,
   "metadata": {},
   "outputs": [],
   "source": []
  }
 ],
 "metadata": {
  "kernelspec": {
   "display_name": "Python 3",
   "language": "python",
   "name": "python3"
  },
  "language_info": {
   "codemirror_mode": {
    "name": "ipython",
    "version": 3
   },
   "file_extension": ".py",
   "mimetype": "text/x-python",
   "name": "python",
   "nbconvert_exporter": "python",
   "pygments_lexer": "ipython3",
   "version": "3.7.3"
  },
  "nav_menu": {},
  "toc": {
   "navigate_menu": true,
   "number_sections": false,
   "sideBar": false,
   "threshold": 6,
   "toc_cell": true,
   "toc_section_display": "block",
   "toc_window_display": false
  }
 },
 "nbformat": 4,
 "nbformat_minor": 2
}
